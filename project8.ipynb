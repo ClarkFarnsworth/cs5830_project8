{
 "cells": [
  {
   "cell_type": "markdown",
   "id": "86a4397f8b382ebb",
   "metadata": {
    "collapsed": false
   },
   "source": [
    "# Project 7\n",
    "\n",
    "- [Report](https://docs.google.com/document/d/1d6JuigRGQrC9244Y_fzWR2EBKznfnKVnQH_Bf-OEOwI/edit?usp=sharing)\n",
    "- [Slides](https://docs.google.com/presentation/d/1qbXJJV9wEzjcOUMc-ESLRDamedZsxWrcTiVqrR-AlJ8/edit?usp=sharing)\n",
    "- [Dataset](https://www.kaggle.com/datasets/jonathanpilafas/2024-march-madness-statistical-analysis)"
   ]
  },
  {
   "cell_type": "markdown",
   "id": "664f7a90ad922e6a",
   "metadata": {
    "collapsed": false
   },
   "source": [
    "## Setup"
   ]
  },
  {
   "cell_type": "code",
   "execution_count": null,
   "id": "initial_id",
   "metadata": {
    "collapsed": true
   },
   "outputs": [],
   "source": [
    "import matplotlib.pyplot as plt\n",
    "import pandas as pd\n",
    "import seaborn as sns\n",
    "from sklearn.metrics import confusion_matrix, precision_recall_fscore_support\n",
    "from sklearn.model_selection import train_test_split\n",
    "import re\n",
    "from sklearn.linear_model import LogisticRegression\n",
    "from sklearn.utils.class_weight import compute_class_weight\n",
    "import pandas as pd\n",
    "from sklearn import svm\n",
    "import pandas as pd\n",
    "import numpy as np\n",
    "from sklearn.neighbors import NearestNeighbors\n",
    "import random\n",
    "from sklearn.tree import export_graphviz\n",
    "from IPython.display import SVG\n",
    "from graphviz import Source\n",
    "from sklearn.tree import DecisionTreeClassifier\n",
    "from sklearn import tree"
   ]
  },
  {
   "cell_type": "markdown",
   "id": "d3bdcfc6",
   "metadata": {},
   "source": [
    "## Exploring/Cleaning Data"
   ]
  },
  {
   "cell_type": "markdown",
   "id": "6b9210f0",
   "metadata": {},
   "source": [
    "### Collect Utah and Colorado housing data"
   ]
  },
  {
   "cell_type": "code",
   "execution_count": null,
   "id": "f4a03096",
   "metadata": {},
   "outputs": [],
   "source": [
    "df = pd.read_csv('realtor-data.csv')\n",
    "df = df[df['state'].isin(['Utah', 'Colorado'])]\n",
    "df = df.dropna()\n",
    "df = df.drop(df[df.status == 'sold'].index)\n",
    "df = df.reset_index(drop=True)\n",
    "df"
   ]
  },
  {
   "cell_type": "markdown",
   "id": "2e7c060d",
   "metadata": {},
   "source": [
    "### Ensure that the two states have similar data to each other and remove outliers"
   ]
  },
  {
   "cell_type": "code",
   "execution_count": null,
   "id": "086d235d",
   "metadata": {},
   "outputs": [],
   "source": [
    "display(df.describe())\n",
    "display(df[df.state == 'Utah'].describe())\n",
    "display(df[df.state == 'Colorado'].describe())"
   ]
  },
  {
   "cell_type": "code",
   "execution_count": null,
   "id": "9724feff",
   "metadata": {},
   "outputs": [],
   "source": [
    "outliers = df[df.price > df.price.mean() + 2 * df.price.std()]\n",
    "outliers"
   ]
  },
  {
   "cell_type": "code",
   "execution_count": null,
   "id": "418e571e",
   "metadata": {},
   "outputs": [],
   "source": [
    "df.drop(outliers.index)"
   ]
  },
  {
   "cell_type": "code",
   "execution_count": null,
   "id": "de1dae11",
   "metadata": {},
   "outputs": [],
   "source": [
    "display(df.describe())\n",
    "display(df[df.state == 'Utah'].describe())\n",
    "display(df[df.state == 'Colorado'].describe())"
   ]
  },
  {
   "cell_type": "code",
   "execution_count": null,
   "id": "9912b59e",
   "metadata": {},
   "outputs": [],
   "source": [
    "sns.displot(data=df, x='price', hue='state', kind='kde', common_norm=False, height=6, aspect=1.5)\n",
    "plt.axvline(df[df.state == 'Colorado'].price.mean(), color='green', linestyle='dashed', linewidth=2, label='Colorado Mean')\n",
    "plt.axvline(df[df.state == 'Colorado'].price.median(), color='blue', linestyle='dashed', linewidth=2, label='Colorado Mode')\n",
    "plt.axvline(df[df.state == 'Utah'].price.mean(), color='red', linestyle='dashed', linewidth=2, label='Utah Mean')\n",
    "plt.axvline(df[df.state == 'Utah'].price.median(), color='orange', linestyle='dashed', linewidth=2, label='Utah Mode')\n",
    "plt.legend()\n",
    "plt.title('Distribution of House Prices')\n",
    "plt.xlabel('Price ($)')"
   ]
  },
  {
   "cell_type": "code",
   "execution_count": null,
   "id": "2eb230f6",
   "metadata": {},
   "outputs": [],
   "source": [
    "sns.displot(data=df, x='price', hue='state', kind='kde', common_norm=False, height=6, aspect=1.5)\n",
    "plt.axvline(df[df.state == 'Colorado'].price.mean(), color='green', linestyle='dashed', linewidth=2, label='Colorado Mean')\n",
    "plt.axvline(df[df.state == 'Colorado'].price.median(), color='blue', linestyle='dashed', linewidth=2, label='Colorado Mode')\n",
    "plt.axvline(df[df.state == 'Utah'].price.mean(), color='red', linestyle='dashed', linewidth=2, label='Utah Mean')\n",
    "plt.axvline(df[df.state == 'Utah'].price.median(), color='orange', linestyle='dashed', linewidth=2, label='Utah Mode')\n",
    "plt.legend()\n",
    "plt.xlim((0, 2000000))\n",
    "plt.title('Distribution of House Prices')\n",
    "plt.xlabel('Price ($)')"
   ]
  },
  {
   "cell_type": "markdown",
   "id": "f0d9d8e2",
   "metadata": {},
   "source": [
    "### Prepare the data for prediction"
   ]
  },
  {
   "cell_type": "code",
   "execution_count": null,
   "id": "c1259db5",
   "metadata": {},
   "outputs": [],
   "source": [
    "df['price_range'] = pd.qcut(df['price'], 4)\n",
    "df['price_range_encoded'] = pd.qcut(df['price'], 4, labels=False)\n",
    "df"
   ]
  },
  {
   "cell_type": "code",
   "execution_count": null,
   "id": "150344bd",
   "metadata": {},
   "outputs": [],
   "source": [
    "df['utah'] = df.apply(lambda row: 1 if row.state == 'Utah' else 0, axis=1)\n",
    "df"
   ]
  },
  {
   "cell_type": "code",
   "execution_count": null,
   "id": "11033fbc",
   "metadata": {},
   "outputs": [],
   "source": [
    "df['prev_sold_date'] = pd.to_datetime(df['prev_sold_date'])\n",
    "df['days_since_last_sale'] = (pd.Timestamp.today() - df['prev_sold_date']).dt.days\n",
    "df"
   ]
  },
  {
   "cell_type": "markdown",
   "id": "67c7cea4",
   "metadata": {},
   "source": [
    "## Decision Trees"
   ]
  },
  {
   "cell_type": "markdown",
   "id": "e1b06b8e",
   "metadata": {},
   "source": [
    "### Depth of 3"
   ]
  },
  {
   "cell_type": "markdown",
   "id": "f2b3da3c",
   "metadata": {},
   "source": [
    "#### Training on whole dataset"
   ]
  },
  {
   "cell_type": "code",
   "execution_count": null,
   "id": "35539761",
   "metadata": {},
   "outputs": [],
   "source": [
    "# create a list of feature columns\n",
    "feature_cols = ['bed', 'bath', 'acre_lot', 'house_size', 'utah', 'days_since_last_sale']\n",
    "\n",
    "# define X and y\n",
    "X = df[feature_cols]\n",
    "y = df.price_range_encoded\n",
    "\n",
    "# fit a classification tree on all data\n",
    "treeclf = DecisionTreeClassifier(max_depth=3, random_state=1)\n",
    "treeclf.fit(X.values, y)\n",
    "\n",
    "dot = tree.export_graphviz(treeclf, out_file=None,\n",
    "                                    feature_names=feature_cols,\n",
    "                                    class_names=['0', '1', '2', '3'], filled = True)\n",
    "\n",
    "# output dot code to copy/paste into https://dreampuf.github.io/GraphvizOnline\n",
    "print(dot)\n",
    "\n",
    "y_pred = treeclf.predict(X)\n",
    "\n",
    "p,r,f,s = precision_recall_fscore_support(y, y_pred, labels=[0, 1, 2, 3])\n",
    "display('precision = {}'.format(p))\n",
    "display('recall = {}'.format(r))\n",
    "display('f-score = {}'.format(f))"
   ]
  },
  {
   "cell_type": "markdown",
   "id": "24d1edc0",
   "metadata": {},
   "source": [
    "#### Monte Carlo cross-validation"
   ]
  },
  {
   "cell_type": "code",
   "execution_count": null,
   "id": "c152439c",
   "metadata": {},
   "outputs": [],
   "source": [
    "# create a list of feature columns\n",
    "feature_cols = ['bed', 'bath', 'acre_lot', 'house_size', 'utah', 'days_since_last_sale']\n",
    "\n",
    "# define X and y\n",
    "X = df[feature_cols]\n",
    "y = df.price_range_encoded\n",
    "\n",
    "scores = {'p': [], 'r': [], 'f': []}\n",
    "for _ in range(30):\n",
    "    X_train, X_test, y_train, y_test = train_test_split(X, y, test_size=0.25)#, random_state=42)\n",
    "\n",
    "    # fit a classification tree on all data\n",
    "    treeclf = DecisionTreeClassifier(max_depth=3, random_state=1)\n",
    "    treeclf.fit(X_train, y_train)\n",
    "\n",
    "    y_pred = treeclf.predict(X_test)\n",
    "\n",
    "    p,r,f,s = precision_recall_fscore_support(y_test, y_pred, labels=[0, 1, 2, 3])\n",
    "    scores['p'].append(p)\n",
    "    scores['r'].append(r)\n",
    "    scores['f'].append(f)\n",
    "\n",
    "avgP = 0\n",
    "for pre in scores['p']:\n",
    "    avgP += pre\n",
    "avgP /= len(scores['p'])\n",
    "\n",
    "avgR = 0\n",
    "for re in scores['r']:\n",
    "    avgR += re\n",
    "avgR /= len(scores['r'])\n",
    "\n",
    "avgF = 0\n",
    "for f in scores['f']:\n",
    "    avgF += f\n",
    "avgF /= len(scores['f'])\n",
    "\n",
    "display('precision = {}'.format(avgP))\n",
    "display('recall = {}'.format(avgR))\n",
    "display('f-score = {}'.format(avgF))"
   ]
  },
  {
   "cell_type": "markdown",
   "id": "d566320e",
   "metadata": {},
   "source": [
    "### Depth of 5"
   ]
  },
  {
   "cell_type": "markdown",
   "id": "713ab57a",
   "metadata": {},
   "source": [
    "#### Training on whole dataset"
   ]
  },
  {
   "cell_type": "code",
   "execution_count": null,
   "id": "a97b7b16",
   "metadata": {},
   "outputs": [],
   "source": [
    "# create a list of feature columns\n",
    "feature_cols = ['bed', 'bath', 'acre_lot', 'house_size', 'utah', 'days_since_last_sale']\n",
    "\n",
    "# define X and y\n",
    "X = df[feature_cols]\n",
    "y = df.price_range_encoded\n",
    "\n",
    "# fit a classification tree on all data\n",
    "treeclf = DecisionTreeClassifier(max_depth=5, random_state=1)\n",
    "treeclf.fit(X.values, y)\n",
    "\n",
    "dot = tree.export_graphviz(treeclf, out_file=None,\n",
    "                                    feature_names=feature_cols,\n",
    "                                    class_names=['0', '1', '2', '3'], filled = True)\n",
    "\n",
    "# output dot code to copy/paste into https://dreampuf.github.io/GraphvizOnline\n",
    "print(dot)\n",
    "\n",
    "y_pred = treeclf.predict(X)\n",
    "\n",
    "p,r,f,s = precision_recall_fscore_support(y, y_pred, labels=[0, 1, 2, 3])\n",
    "display('precision = {}'.format(p))\n",
    "display('recall = {}'.format(r))\n",
    "display('f-score = {}'.format(f))"
   ]
  },
  {
   "cell_type": "markdown",
   "id": "c68e924d",
   "metadata": {},
   "source": [
    "#### Monte Carlo cross-validation"
   ]
  },
  {
   "cell_type": "code",
   "execution_count": null,
   "id": "5f7ab9b1",
   "metadata": {},
   "outputs": [],
   "source": [
    "# create a list of feature columns\n",
    "feature_cols = ['bed', 'bath', 'acre_lot', 'house_size', 'utah', 'days_since_last_sale']\n",
    "\n",
    "# define X and y\n",
    "X = df[feature_cols]\n",
    "y = df.price_range_encoded\n",
    "\n",
    "scores = {'p': [], 'r': [], 'f': []}\n",
    "for _ in range(30):\n",
    "    X_train, X_test, y_train, y_test = train_test_split(X, y, test_size=0.25)#, random_state=42)\n",
    "\n",
    "    # fit a classification tree on all data\n",
    "    treeclf = DecisionTreeClassifier(max_depth=5, random_state=1)\n",
    "    treeclf.fit(X_train, y_train)\n",
    "\n",
    "    y_pred = treeclf.predict(X_test)\n",
    "\n",
    "    p,r,f,s = precision_recall_fscore_support(y_test, y_pred, labels=[0, 1, 2, 3])\n",
    "    scores['p'].append(p)\n",
    "    scores['r'].append(r)\n",
    "    scores['f'].append(f)\n",
    "\n",
    "avgP = 0\n",
    "for pre in scores['p']:\n",
    "    avgP += pre\n",
    "avgP /= len(scores['p'])\n",
    "\n",
    "avgR = 0\n",
    "for re in scores['r']:\n",
    "    avgR += re\n",
    "avgR /= len(scores['r'])\n",
    "\n",
    "avgF = 0\n",
    "for f in scores['f']:\n",
    "    avgF += f\n",
    "avgF /= len(scores['f'])\n",
    "\n",
    "display('precision = {}'.format(avgP))\n",
    "display('recall = {}'.format(avgR))\n",
    "display('f-score = {}'.format(avgF))"
   ]
  }
 ],
 "metadata": {
  "kernelspec": {
   "display_name": "Python 3",
   "language": "python",
   "name": "python3"
  },
  "language_info": {
   "codemirror_mode": {
    "name": "ipython",
    "version": 3
   },
   "file_extension": ".py",
   "mimetype": "text/x-python",
   "name": "python",
   "nbconvert_exporter": "python",
   "pygments_lexer": "ipython3",
   "version": "3.11.0"
  }
 },
 "nbformat": 4,
 "nbformat_minor": 5
}
