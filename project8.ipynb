{
 "cells": [
  {
   "cell_type": "markdown",
   "id": "86a4397f8b382ebb",
   "metadata": {
    "collapsed": false
   },
   "source": [
    "# Project 7\n",
    "\n",
    "- [Report](https://docs.google.com/document/d/1d6JuigRGQrC9244Y_fzWR2EBKznfnKVnQH_Bf-OEOwI/edit?usp=sharing)\n",
    "- [Slides](https://docs.google.com/presentation/d/1qbXJJV9wEzjcOUMc-ESLRDamedZsxWrcTiVqrR-AlJ8/edit?usp=sharing)\n",
    "- [Dataset](https://www.kaggle.com/datasets/jonathanpilafas/2024-march-madness-statistical-analysis)"
   ]
  },
  {
   "cell_type": "markdown",
   "id": "664f7a90ad922e6a",
   "metadata": {
    "collapsed": false
   },
   "source": [
    "## Setup"
   ]
  },
  {
   "cell_type": "code",
   "execution_count": null,
   "id": "initial_id",
   "metadata": {
    "collapsed": true
   },
   "outputs": [],
   "source": [
    "import matplotlib.pyplot as plt\n",
    "import pandas as pd\n",
    "import seaborn as sns\n",
    "from sklearn.metrics import confusion_matrix, precision_recall_fscore_support\n",
    "from sklearn.model_selection import train_test_split\n",
    "import re\n",
    "from sklearn.linear_model import LogisticRegression\n",
    "from sklearn.utils.class_weight import compute_class_weight\n",
    "import pandas as pd\n",
    "from sklearn import svm\n",
    "import pandas as pd\n",
    "import numpy as np\n",
    "from sklearn.neighbors import NearestNeighbors\n",
    "import random\n",
    "from sklearn.tree import export_graphviz\n",
    "from IPython.display import SVG\n",
    "from graphviz import Source\n",
    "from sklearn.tree import DecisionTreeClassifier\n",
    "from sklearn import tree"
   ]
  },
  {
   "cell_type": "markdown",
   "id": "d3bdcfc6",
   "metadata": {},
   "source": [
    "## Exploring/Cleaning Data"
   ]
  },
  {
   "cell_type": "markdown",
   "id": "6b9210f0",
   "metadata": {},
   "source": [
    "### Collect Utah and Colorado housing data"
   ]
  },
  {
   "cell_type": "code",
   "execution_count": null,
   "id": "f4a03096",
   "metadata": {},
   "outputs": [],
   "source": [
    "df = pd.read_csv('realtor-data.csv')\n",
    "df = df[df['state'].isin(['Utah', 'Colorado'])]\n",
    "df = df.dropna()\n",
    "df = df.drop(df[df.status == 'sold'].index)\n",
    "df = df.reset_index(drop=True)\n",
    "df"
   ]
  },
  {
   "cell_type": "markdown",
   "id": "2e7c060d",
   "metadata": {},
   "source": [
    "### Ensure that the two states have similar data to each other and remove outliers"
   ]
  },
  {
   "cell_type": "code",
   "execution_count": null,
   "id": "086d235d",
   "metadata": {},
   "outputs": [],
   "source": [
    "display(df.describe())\n",
    "display(df[df.state == 'Utah'].describe())\n",
    "display(df[df.state == 'Colorado'].describe())"
   ]
  },
  {
   "cell_type": "code",
   "execution_count": null,
   "id": "9724feff",
   "metadata": {},
   "outputs": [],
   "source": [
    "outliers = df[df.price > df.price.mean() + 2 * df.price.std()]\n",
    "outliers"
   ]
  },
  {
   "cell_type": "code",
   "execution_count": null,
   "id": "418e571e",
   "metadata": {},
   "outputs": [],
   "source": [
    "df.drop(outliers.index)"
   ]
  },
  {
   "cell_type": "code",
   "execution_count": null,
   "id": "de1dae11",
   "metadata": {},
   "outputs": [],
   "source": [
    "display(df.describe())\n",
    "display(df[df.state == 'Utah'].describe())\n",
    "display(df[df.state == 'Colorado'].describe())"
   ]
  },
  {
   "cell_type": "code",
   "execution_count": null,
   "id": "9912b59e",
   "metadata": {},
   "outputs": [],
   "source": [
    "sns.displot(data=df, x='price', hue='state', kind='kde', common_norm=False, height=6, aspect=1.5)\n",
    "plt.axvline(df[df.state == 'Colorado'].price.mean(), color='green', linestyle='dashed', linewidth=2, label='Colorado Mean')\n",
    "plt.axvline(df[df.state == 'Colorado'].price.median(), color='blue', linestyle='dashed', linewidth=2, label='Colorado Mode')\n",
    "plt.axvline(df[df.state == 'Utah'].price.mean(), color='red', linestyle='dashed', linewidth=2, label='Utah Mean')\n",
    "plt.axvline(df[df.state == 'Utah'].price.median(), color='orange', linestyle='dashed', linewidth=2, label='Utah Mode')\n",
    "plt.legend()\n",
    "plt.title('Distribution of House Prices')\n",
    "plt.xlabel('Price ($)')"
   ]
  },
  {
   "cell_type": "code",
   "execution_count": null,
   "id": "2eb230f6",
   "metadata": {},
   "outputs": [],
   "source": [
    "sns.displot(data=df, x='price', hue='state', kind='kde', common_norm=False, height=6, aspect=1.5)\n",
    "plt.axvline(df[df.state == 'Colorado'].price.mean(), color='green', linestyle='dashed', linewidth=2, label='Colorado Mean')\n",
    "plt.axvline(df[df.state == 'Colorado'].price.median(), color='blue', linestyle='dashed', linewidth=2, label='Colorado Mode')\n",
    "plt.axvline(df[df.state == 'Utah'].price.mean(), color='red', linestyle='dashed', linewidth=2, label='Utah Mean')\n",
    "plt.axvline(df[df.state == 'Utah'].price.median(), color='orange', linestyle='dashed', linewidth=2, label='Utah Mode')\n",
    "plt.legend()\n",
    "plt.xlim((0, 2000000))\n",
    "plt.title('Distribution of House Prices')\n",
    "plt.xlabel('Price ($)')"
   ]
  },
  {
   "cell_type": "markdown",
   "id": "f0d9d8e2",
   "metadata": {},
   "source": [
    "### Prepare the data for prediction"
   ]
  },
  {
   "cell_type": "code",
   "execution_count": null,
   "id": "c1259db5",
   "metadata": {},
   "outputs": [],
   "source": [
    "df['price_range'] = pd.qcut(df['price'], 4)\n",
    "df['price_range_encoded'] = pd.qcut(df['price'], 4, labels=False)\n",
    "df"
   ]
  },
  {
   "cell_type": "code",
   "execution_count": null,
   "id": "150344bd",
   "metadata": {},
   "outputs": [],
   "source": [
    "df['utah'] = df.apply(lambda row: 1 if row.state == 'Utah' else 0, axis=1)\n",
    "df"
   ]
  },
  {
   "cell_type": "code",
   "execution_count": null,
   "id": "11033fbc",
   "metadata": {},
   "outputs": [],
   "source": [
    "df['prev_sold_date'] = pd.to_datetime(df['prev_sold_date'])\n",
    "df['days_since_last_sale'] = (pd.Timestamp.today() - df['prev_sold_date']).dt.days\n",
    "df"
   ]
  },
  {
   "cell_type": "markdown",
   "id": "67c7cea4",
   "metadata": {},
   "source": [
    "## Decision Trees"
   ]
  },
  {
   "cell_type": "markdown",
   "id": "e1b06b8e",
   "metadata": {},
   "source": [
    "### Depth of 3"
   ]
  },
  {
   "cell_type": "markdown",
   "id": "f2b3da3c",
   "metadata": {},
   "source": [
    "#### Training on whole dataset"
   ]
  },
  {
   "cell_type": "code",
   "execution_count": 168,
   "id": "35539761",
   "metadata": {},
   "outputs": [
    {
     "name": "stdout",
     "output_type": "stream",
     "text": [
      "digraph Tree {\n",
      "node [shape=box, style=\"filled\", color=\"black\", fontname=\"helvetica\"] ;\n",
      "edge [fontname=\"helvetica\"] ;\n",
      "0 [label=\"house_size <= 2938.5\\ngini = 0.75\\nsamples = 15192\\nvalue = [3915.0, 3725.0, 3754.0, 3798.0]\\nclass = 0\", fillcolor=\"#fffefd\"] ;\n",
      "1 [label=\"house_size <= 1613.5\\ngini = 0.696\\nsamples = 9842\\nvalue = [3823.0, 3271.0, 1823.0, 925.0]\\nclass = 0\", fillcolor=\"#fdf4ee\"] ;\n",
      "0 -> 1 [labeldistance=2.5, labelangle=45, headlabel=\"True\"] ;\n",
      "2 [label=\"acre_lot <= 0.745\\ngini = 0.49\\nsamples = 3386\\nvalue = [2302, 681, 239, 164]\\nclass = 0\", fillcolor=\"#efb388\"] ;\n",
      "1 -> 2 ;\n",
      "3 [label=\"gini = 0.46\\nsamples = 3039\\nvalue = [2137, 612, 188, 102]\\nclass = 0\", fillcolor=\"#efb083\"] ;\n",
      "2 -> 3 ;\n",
      "4 [label=\"gini = 0.681\\nsamples = 347\\nvalue = [165, 69, 51, 62]\\nclass = 0\", fillcolor=\"#f6d3bb\"] ;\n",
      "2 -> 4 ;\n",
      "5 [label=\"house_size <= 2145.5\\ngini = 0.709\\nsamples = 6456\\nvalue = [1521, 2590, 1584, 761]\\nclass = 1\", fillcolor=\"#d9fad6\"] ;\n",
      "1 -> 5 ;\n",
      "6 [label=\"gini = 0.68\\nsamples = 3022\\nvalue = [1026.0, 1237.0, 543.0, 216.0]\\nclass = 1\", fillcolor=\"#ecfcea\"] ;\n",
      "5 -> 6 ;\n",
      "7 [label=\"gini = 0.707\\nsamples = 3434\\nvalue = [495, 1353, 1041, 545]\\nclass = 1\", fillcolor=\"#e7fce5\"] ;\n",
      "5 -> 7 ;\n",
      "8 [label=\"house_size <= 4311.5\\ngini = 0.574\\nsamples = 5350\\nvalue = [92.0, 454.0, 1931.0, 2873.0]\\nclass = 3\", fillcolor=\"#f4c8f8\"] ;\n",
      "0 -> 8 [labeldistance=2.5, labelangle=-45, headlabel=\"False\"] ;\n",
      "9 [label=\"acre_lot <= 0.345\\ngini = 0.612\\nsamples = 3435\\nvalue = [86.0, 440.0, 1726.0, 1183.0]\\nclass = 2\", fillcolor=\"#cfe7f9\"] ;\n",
      "8 -> 9 ;\n",
      "10 [label=\"gini = 0.582\\nsamples = 2603\\nvalue = [65.0, 379.0, 1499.0, 660.0]\\nclass = 2\", fillcolor=\"#aad5f4\"] ;\n",
      "9 -> 10 ;\n",
      "11 [label=\"gini = 0.524\\nsamples = 832\\nvalue = [21.0, 61.0, 227.0, 523.0]\\nclass = 3\", fillcolor=\"#eb9ef2\"] ;\n",
      "9 -> 11 ;\n",
      "12 [label=\"house_size <= 4979.5\\ngini = 0.21\\nsamples = 1915\\nvalue = [6, 14, 205, 1690]\\nclass = 3\", fillcolor=\"#dc53e8\"] ;\n",
      "8 -> 12 ;\n",
      "13 [label=\"gini = 0.381\\nsamples = 748\\nvalue = [2.0, 10.0, 174.0, 562.0]\\nclass = 3\", fillcolor=\"#e479ed\"] ;\n",
      "12 -> 13 ;\n",
      "14 [label=\"gini = 0.065\\nsamples = 1167\\nvalue = [4, 4, 31, 1128]\\nclass = 3\", fillcolor=\"#d840e6\"] ;\n",
      "12 -> 14 ;\n",
      "}\n"
     ]
    },
    {
     "name": "stderr",
     "output_type": "stream",
     "text": [
      "c:\\Python311\\Lib\\site-packages\\sklearn\\base.py:486: UserWarning: X has feature names, but DecisionTreeClassifier was fitted without feature names\n",
      "  warnings.warn(\n"
     ]
    },
    {
     "data": {
      "text/plain": [
       "'precision = [0.67985824 0.4011772  0.57587399 0.80560612]'"
      ]
     },
     "metadata": {},
     "output_type": "display_data"
    },
    {
     "data": {
      "text/plain": [
       "'recall = [0.58799489 0.69530201 0.39930741 0.58267509]'"
      ]
     },
     "metadata": {},
     "output_type": "display_data"
    },
    {
     "data": {
      "text/plain": [
       "'f-score = [0.63059855 0.50879088 0.4716061  0.67624141]'"
      ]
     },
     "metadata": {},
     "output_type": "display_data"
    },
    {
     "data": {
      "text/html": [
       "<div>\n",
       "<style scoped>\n",
       "    .dataframe tbody tr th:only-of-type {\n",
       "        vertical-align: middle;\n",
       "    }\n",
       "\n",
       "    .dataframe tbody tr th {\n",
       "        vertical-align: top;\n",
       "    }\n",
       "\n",
       "    .dataframe thead th {\n",
       "        text-align: right;\n",
       "    }\n",
       "</style>\n",
       "<table border=\"1\" class=\"dataframe\">\n",
       "  <thead>\n",
       "    <tr style=\"text-align: right;\">\n",
       "      <th></th>\n",
       "      <th>feature</th>\n",
       "      <th>importance</th>\n",
       "    </tr>\n",
       "  </thead>\n",
       "  <tbody>\n",
       "    <tr>\n",
       "      <th>0</th>\n",
       "      <td>bed</td>\n",
       "      <td>0.000000</td>\n",
       "    </tr>\n",
       "    <tr>\n",
       "      <th>1</th>\n",
       "      <td>bath</td>\n",
       "      <td>0.000000</td>\n",
       "    </tr>\n",
       "    <tr>\n",
       "      <th>2</th>\n",
       "      <td>acre_lot</td>\n",
       "      <td>0.058994</td>\n",
       "    </tr>\n",
       "    <tr>\n",
       "      <th>3</th>\n",
       "      <td>house_size</td>\n",
       "      <td>0.941006</td>\n",
       "    </tr>\n",
       "    <tr>\n",
       "      <th>4</th>\n",
       "      <td>utah</td>\n",
       "      <td>0.000000</td>\n",
       "    </tr>\n",
       "    <tr>\n",
       "      <th>5</th>\n",
       "      <td>days_since_last_sale</td>\n",
       "      <td>0.000000</td>\n",
       "    </tr>\n",
       "  </tbody>\n",
       "</table>\n",
       "</div>"
      ],
      "text/plain": [
       "                feature  importance\n",
       "0                   bed    0.000000\n",
       "1                  bath    0.000000\n",
       "2              acre_lot    0.058994\n",
       "3            house_size    0.941006\n",
       "4                  utah    0.000000\n",
       "5  days_since_last_sale    0.000000"
      ]
     },
     "execution_count": 168,
     "metadata": {},
     "output_type": "execute_result"
    }
   ],
   "source": [
    "# create a list of feature columns\n",
    "feature_cols = ['bed', 'bath', 'acre_lot', 'house_size', 'utah', 'days_since_last_sale']\n",
    "\n",
    "# define X and y\n",
    "X = df[feature_cols]\n",
    "y = df.price_range_encoded\n",
    "\n",
    "# fit a classification tree on all data\n",
    "treeclf = DecisionTreeClassifier(max_depth=3, random_state=1)\n",
    "treeclf.fit(X.values, y)\n",
    "\n",
    "dot = tree.export_graphviz(treeclf, out_file=None,\n",
    "                                    feature_names=feature_cols,\n",
    "                                    class_names=['0', '1', '2', '3'], filled = True)\n",
    "\n",
    "# output dot code to copy/paste into https://dreampuf.github.io/GraphvizOnline\n",
    "print(dot)\n",
    "\n",
    "y_pred = treeclf.predict(X)\n",
    "\n",
    "p,r,f,s = precision_recall_fscore_support(y, y_pred, labels=[0, 1, 2, 3])\n",
    "display('precision = {}'.format(p))\n",
    "display('recall = {}'.format(r))\n",
    "display('f-score = {}'.format(f))\n",
    "\n",
    "pd.DataFrame({'feature':feature_cols, 'importance':treeclf.feature_importances_})"
   ]
  },
  {
   "cell_type": "markdown",
   "id": "24d1edc0",
   "metadata": {},
   "source": [
    "#### Monte Carlo cross-validation"
   ]
  },
  {
   "cell_type": "code",
   "execution_count": null,
   "id": "c152439c",
   "metadata": {},
   "outputs": [],
   "source": [
    "# create a list of feature columns\n",
    "feature_cols = ['bed', 'bath', 'acre_lot', 'house_size', 'utah', 'days_since_last_sale']\n",
    "\n",
    "# define X and y\n",
    "X = df[feature_cols]\n",
    "y = df.price_range_encoded\n",
    "\n",
    "scores = {'p': [], 'r': [], 'f': []}\n",
    "for _ in range(30):\n",
    "    X_train, X_test, y_train, y_test = train_test_split(X, y, test_size=0.25)#, random_state=42)\n",
    "\n",
    "    # fit a classification tree on all data\n",
    "    treeclf = DecisionTreeClassifier(max_depth=3, random_state=1)\n",
    "    treeclf.fit(X_train, y_train)\n",
    "\n",
    "    y_pred = treeclf.predict(X_test)\n",
    "\n",
    "    p,r,f,s = precision_recall_fscore_support(y_test, y_pred, labels=[0, 1, 2, 3])\n",
    "    scores['p'].append(p)\n",
    "    scores['r'].append(r)\n",
    "    scores['f'].append(f)\n",
    "\n",
    "avgP = 0\n",
    "for pre in scores['p']:\n",
    "    avgP += pre\n",
    "avgP /= len(scores['p'])\n",
    "\n",
    "avgR = 0\n",
    "for re in scores['r']:\n",
    "    avgR += re\n",
    "avgR /= len(scores['r'])\n",
    "\n",
    "avgF = 0\n",
    "for f in scores['f']:\n",
    "    avgF += f\n",
    "avgF /= len(scores['f'])\n",
    "\n",
    "display('precision = {}'.format(avgP))\n",
    "display('recall = {}'.format(avgR))\n",
    "display('f-score = {}'.format(avgF))"
   ]
  },
  {
   "cell_type": "markdown",
   "id": "d566320e",
   "metadata": {},
   "source": [
    "### Depth of 5"
   ]
  },
  {
   "cell_type": "markdown",
   "id": "713ab57a",
   "metadata": {},
   "source": [
    "#### Training on whole dataset"
   ]
  },
  {
   "cell_type": "code",
   "execution_count": 169,
   "id": "a97b7b16",
   "metadata": {},
   "outputs": [
    {
     "name": "stdout",
     "output_type": "stream",
     "text": [
      "digraph Tree {\n",
      "node [shape=box, style=\"filled\", color=\"black\", fontname=\"helvetica\"] ;\n",
      "edge [fontname=\"helvetica\"] ;\n",
      "0 [label=\"house_size <= 2938.5\\ngini = 0.75\\nsamples = 15192\\nvalue = [3915.0, 3725.0, 3754.0, 3798.0]\\nclass = 0\", fillcolor=\"#fffefd\"] ;\n",
      "1 [label=\"house_size <= 1613.5\\ngini = 0.696\\nsamples = 9842\\nvalue = [3823.0, 3271.0, 1823.0, 925.0]\\nclass = 0\", fillcolor=\"#fdf4ee\"] ;\n",
      "0 -> 1 [labeldistance=2.5, labelangle=45, headlabel=\"True\"] ;\n",
      "2 [label=\"acre_lot <= 0.745\\ngini = 0.49\\nsamples = 3386\\nvalue = [2302, 681, 239, 164]\\nclass = 0\", fillcolor=\"#efb388\"] ;\n",
      "1 -> 2 ;\n",
      "3 [label=\"house_size <= 1272.5\\ngini = 0.46\\nsamples = 3039\\nvalue = [2137, 612, 188, 102]\\nclass = 0\", fillcolor=\"#efb083\"] ;\n",
      "2 -> 3 ;\n",
      "4 [label=\"utah <= 0.5\\ngini = 0.377\\nsamples = 1542\\nvalue = [1193, 225, 77, 47]\\nclass = 0\", fillcolor=\"#eca26d\"] ;\n",
      "3 -> 4 ;\n",
      "5 [label=\"gini = 0.427\\nsamples = 1166\\nvalue = [855, 204, 69, 38]\\nclass = 0\", fillcolor=\"#edaa79\"] ;\n",
      "4 -> 5 ;\n",
      "6 [label=\"gini = 0.188\\nsamples = 376\\nvalue = [338, 21, 8, 9]\\nclass = 0\", fillcolor=\"#e88e4e\"] ;\n",
      "4 -> 6 ;\n",
      "7 [label=\"utah <= 0.5\\ngini = 0.529\\nsamples = 1497\\nvalue = [944.0, 387.0, 111.0, 55.0]\\nclass = 0\", fillcolor=\"#f2c09c\"] ;\n",
      "3 -> 7 ;\n",
      "8 [label=\"gini = 0.565\\nsamples = 1081\\nvalue = [636, 305, 97, 43]\\nclass = 0\", fillcolor=\"#f4c9ab\"] ;\n",
      "7 -> 8 ;\n",
      "9 [label=\"gini = 0.411\\nsamples = 416\\nvalue = [308, 82, 14, 12]\\nclass = 0\", fillcolor=\"#edaa79\"] ;\n",
      "7 -> 9 ;\n",
      "10 [label=\"days_since_last_sale <= 5448.5\\ngini = 0.681\\nsamples = 347\\nvalue = [165, 69, 51, 62]\\nclass = 0\", fillcolor=\"#f6d3bb\"] ;\n",
      "2 -> 10 ;\n",
      "11 [label=\"bath <= 2.5\\ngini = 0.63\\nsamples = 233\\nvalue = [127, 47, 29, 30]\\nclass = 0\", fillcolor=\"#f4c9aa\"] ;\n",
      "10 -> 11 ;\n",
      "12 [label=\"gini = 0.616\\nsamples = 220\\nvalue = [123, 47, 27, 23]\\nclass = 0\", fillcolor=\"#f4c8a8\"] ;\n",
      "11 -> 12 ;\n",
      "13 [label=\"gini = 0.592\\nsamples = 13\\nvalue = [4, 0, 2, 7]\\nclass = 3\", fillcolor=\"#f2bdf6\"] ;\n",
      "11 -> 13 ;\n",
      "14 [label=\"house_size <= 710.0\\ngini = 0.736\\nsamples = 114\\nvalue = [38, 22, 22, 32]\\nclass = 0\", fillcolor=\"#fdf6f1\"] ;\n",
      "10 -> 14 ;\n",
      "15 [label=\"gini = 0.0\\nsamples = 6\\nvalue = [6, 0, 0, 0]\\nclass = 0\", fillcolor=\"#e58139\"] ;\n",
      "14 -> 15 ;\n",
      "16 [label=\"gini = 0.741\\nsamples = 108\\nvalue = [32, 22, 22, 32]\\nclass = 0\", fillcolor=\"#ffffff\"] ;\n",
      "14 -> 16 ;\n",
      "17 [label=\"house_size <= 2145.5\\ngini = 0.709\\nsamples = 6456\\nvalue = [1521, 2590, 1584, 761]\\nclass = 1\", fillcolor=\"#d9fad6\"] ;\n",
      "1 -> 17 ;\n",
      "18 [label=\"acre_lot <= 0.265\\ngini = 0.68\\nsamples = 3022\\nvalue = [1026.0, 1237.0, 543.0, 216.0]\\nclass = 1\", fillcolor=\"#ecfcea\"] ;\n",
      "17 -> 18 ;\n",
      "19 [label=\"bath <= 2.5\\ngini = 0.656\\nsamples = 2368\\nvalue = [814, 1058, 362, 134]\\nclass = 1\", fillcolor=\"#e2fbe0\"] ;\n",
      "18 -> 19 ;\n",
      "20 [label=\"gini = 0.647\\nsamples = 1288\\nvalue = [520.0, 526.0, 189.0, 53.0]\\nclass = 1\", fillcolor=\"#fefffd\"] ;\n",
      "19 -> 20 ;\n",
      "21 [label=\"gini = 0.652\\nsamples = 1080\\nvalue = [294, 532, 173, 81]\\nclass = 1\", fillcolor=\"#c7f7c3\"] ;\n",
      "19 -> 21 ;\n",
      "22 [label=\"acre_lot <= 2.83\\ngini = 0.728\\nsamples = 654\\nvalue = [212.0, 179.0, 181.0, 82.0]\\nclass = 0\", fillcolor=\"#fdf7f2\"] ;\n",
      "18 -> 22 ;\n",
      "23 [label=\"gini = 0.712\\nsamples = 485\\nvalue = [177, 143, 117, 48]\\nclass = 0\", fillcolor=\"#fcf2eb\"] ;\n",
      "22 -> 23 ;\n",
      "24 [label=\"gini = 0.728\\nsamples = 169\\nvalue = [35, 36, 64, 34]\\nclass = 2\", fillcolor=\"#d5eafa\"] ;\n",
      "22 -> 24 ;\n",
      "25 [label=\"acre_lot <= 0.265\\ngini = 0.707\\nsamples = 3434\\nvalue = [495, 1353, 1041, 545]\\nclass = 1\", fillcolor=\"#e7fce5\"] ;\n",
      "17 -> 25 ;\n",
      "26 [label=\"bath <= 2.5\\ngini = 0.678\\nsamples = 2637\\nvalue = [378.0, 1194.0, 758.0, 307.0]\\nclass = 1\", fillcolor=\"#d4f9d1\"] ;\n",
      "25 -> 26 ;\n",
      "27 [label=\"gini = 0.696\\nsamples = 579\\nvalue = [173, 238, 110, 58]\\nclass = 1\", fillcolor=\"#e2fbdf\"] ;\n",
      "26 -> 27 ;\n",
      "28 [label=\"gini = 0.661\\nsamples = 2058\\nvalue = [205, 956, 648, 249]\\nclass = 1\", fillcolor=\"#d7f9d4\"] ;\n",
      "26 -> 28 ;\n",
      "29 [label=\"acre_lot <= 0.485\\ngini = 0.723\\nsamples = 797\\nvalue = [117.0, 159.0, 283.0, 238.0]\\nclass = 2\", fillcolor=\"#eff7fd\"] ;\n",
      "25 -> 29 ;\n",
      "30 [label=\"gini = 0.724\\nsamples = 339\\nvalue = [62.0, 90.0, 127.0, 60.0]\\nclass = 2\", fillcolor=\"#e2f0fb\"] ;\n",
      "29 -> 30 ;\n",
      "31 [label=\"gini = 0.696\\nsamples = 458\\nvalue = [55, 69, 156, 178]\\nclass = 3\", fillcolor=\"#fcf1fd\"] ;\n",
      "29 -> 31 ;\n",
      "32 [label=\"house_size <= 4311.5\\ngini = 0.574\\nsamples = 5350\\nvalue = [92.0, 454.0, 1931.0, 2873.0]\\nclass = 3\", fillcolor=\"#f4c8f8\"] ;\n",
      "0 -> 32 [labeldistance=2.5, labelangle=-45, headlabel=\"False\"] ;\n",
      "33 [label=\"acre_lot <= 0.345\\ngini = 0.612\\nsamples = 3435\\nvalue = [86.0, 440.0, 1726.0, 1183.0]\\nclass = 2\", fillcolor=\"#cfe7f9\"] ;\n",
      "32 -> 33 ;\n",
      "34 [label=\"bath <= 3.5\\ngini = 0.582\\nsamples = 2603\\nvalue = [65.0, 379.0, 1499.0, 660.0]\\nclass = 2\", fillcolor=\"#aad5f4\"] ;\n",
      "33 -> 34 ;\n",
      "35 [label=\"house_size <= 3300.5\\ngini = 0.563\\nsamples = 1411\\nvalue = [55, 306, 858, 192]\\nclass = 2\", fillcolor=\"#9ccef2\"] ;\n",
      "34 -> 35 ;\n",
      "36 [label=\"gini = 0.6\\nsamples = 613\\nvalue = [37.0, 208.0, 322.0, 46.0]\\nclass = 2\", fillcolor=\"#c7e3f8\"] ;\n",
      "35 -> 36 ;\n",
      "37 [label=\"gini = 0.5\\nsamples = 798\\nvalue = [18, 98, 536, 146]\\nclass = 2\", fillcolor=\"#89c4ef\"] ;\n",
      "35 -> 37 ;\n",
      "38 [label=\"bath <= 4.5\\ngini = 0.553\\nsamples = 1192\\nvalue = [10, 73, 641, 468]\\nclass = 2\", fillcolor=\"#d0e8f9\"] ;\n",
      "34 -> 38 ;\n",
      "39 [label=\"gini = 0.544\\nsamples = 1040\\nvalue = [9, 72, 598, 361]\\nclass = 2\", fillcolor=\"#baddf6\"] ;\n",
      "38 -> 39 ;\n",
      "40 [label=\"gini = 0.424\\nsamples = 152\\nvalue = [1, 1, 43, 107]\\nclass = 3\", fillcolor=\"#e88bf0\"] ;\n",
      "38 -> 40 ;\n",
      "41 [label=\"bath <= 2.5\\ngini = 0.524\\nsamples = 832\\nvalue = [21.0, 61.0, 227.0, 523.0]\\nclass = 3\", fillcolor=\"#eb9ef2\"] ;\n",
      "33 -> 41 ;\n",
      "42 [label=\"acre_lot <= 1.23\\ngini = 0.708\\nsamples = 91\\nvalue = [7.0, 25.0, 31.0, 28.0]\\nclass = 2\", fillcolor=\"#f6fafe\"] ;\n",
      "41 -> 42 ;\n",
      "43 [label=\"gini = 0.654\\nsamples = 45\\nvalue = [3, 20, 16, 6]\\nclass = 1\", fillcolor=\"#e6fbe4\"] ;\n",
      "42 -> 43 ;\n",
      "44 [label=\"gini = 0.646\\nsamples = 46\\nvalue = [4, 5, 15, 22]\\nclass = 3\", fillcolor=\"#f6d2f9\"] ;\n",
      "42 -> 44 ;\n",
      "45 [label=\"bath <= 4.5\\ngini = 0.481\\nsamples = 741\\nvalue = [14.0, 36.0, 196.0, 495.0]\\nclass = 3\", fillcolor=\"#e992f1\"] ;\n",
      "41 -> 45 ;\n",
      "46 [label=\"gini = 0.51\\nsamples = 665\\nvalue = [14.0, 36.0, 193.0, 422.0]\\nclass = 3\", fillcolor=\"#ec9ff2\"] ;\n",
      "45 -> 46 ;\n",
      "47 [label=\"gini = 0.076\\nsamples = 76\\nvalue = [0, 0, 3, 73]\\nclass = 3\", fillcolor=\"#d941e6\"] ;\n",
      "45 -> 47 ;\n",
      "48 [label=\"house_size <= 4979.5\\ngini = 0.21\\nsamples = 1915\\nvalue = [6, 14, 205, 1690]\\nclass = 3\", fillcolor=\"#dc53e8\"] ;\n",
      "32 -> 48 ;\n",
      "49 [label=\"acre_lot <= 0.275\\ngini = 0.381\\nsamples = 748\\nvalue = [2.0, 10.0, 174.0, 562.0]\\nclass = 3\", fillcolor=\"#e479ed\"] ;\n",
      "48 -> 49 ;\n",
      "50 [label=\"bath <= 3.5\\ngini = 0.484\\nsamples = 377\\nvalue = [1, 6, 136, 234]\\nclass = 3\", fillcolor=\"#efaef4\"] ;\n",
      "49 -> 50 ;\n",
      "51 [label=\"gini = 0.524\\nsamples = 104\\nvalue = [0, 4, 58, 42]\\nclass = 2\", fillcolor=\"#cce6f8\"] ;\n",
      "50 -> 51 ;\n",
      "52 [label=\"gini = 0.424\\nsamples = 273\\nvalue = [1.0, 2.0, 78.0, 192.0]\\nclass = 3\", fillcolor=\"#e88bf0\"] ;\n",
      "50 -> 52 ;\n",
      "53 [label=\"acre_lot <= 0.675\\ngini = 0.208\\nsamples = 371\\nvalue = [1, 4, 38, 328]\\nclass = 3\", fillcolor=\"#dc53e8\"] ;\n",
      "49 -> 53 ;\n",
      "54 [label=\"gini = 0.279\\nsamples = 201\\nvalue = [0.0, 3.0, 30.0, 168.0]\\nclass = 3\", fillcolor=\"#df5fea\"] ;\n",
      "53 -> 54 ;\n",
      "55 [label=\"gini = 0.112\\nsamples = 170\\nvalue = [1, 1, 8, 160]\\nclass = 3\", fillcolor=\"#d945e7\"] ;\n",
      "53 -> 55 ;\n",
      "56 [label=\"bath <= 3.5\\ngini = 0.065\\nsamples = 1167\\nvalue = [4, 4, 31, 1128]\\nclass = 3\", fillcolor=\"#d840e6\"] ;\n",
      "48 -> 56 ;\n",
      "57 [label=\"acre_lot <= 0.225\\ngini = 0.353\\nsamples = 67\\nvalue = [3, 2, 9, 53]\\nclass = 3\", fillcolor=\"#e169eb\"] ;\n",
      "56 -> 57 ;\n",
      "58 [label=\"gini = 0.593\\nsamples = 9\\nvalue = [0, 1, 4, 4]\\nclass = 2\", fillcolor=\"#ffffff\"] ;\n",
      "57 -> 58 ;\n",
      "59 [label=\"gini = 0.276\\nsamples = 58\\nvalue = [3, 1, 5, 49]\\nclass = 3\", fillcolor=\"#de5be9\"] ;\n",
      "57 -> 59 ;\n",
      "60 [label=\"house_size <= 5932.5\\ngini = 0.045\\nsamples = 1100\\nvalue = [1, 2, 22, 1075]\\nclass = 3\", fillcolor=\"#d83ee6\"] ;\n",
      "56 -> 60 ;\n",
      "61 [label=\"gini = 0.092\\nsamples = 522\\nvalue = [1, 2, 22, 497]\\nclass = 3\", fillcolor=\"#d943e6\"] ;\n",
      "60 -> 61 ;\n",
      "62 [label=\"gini = 0.0\\nsamples = 578\\nvalue = [0, 0, 0, 578]\\nclass = 3\", fillcolor=\"#d739e5\"] ;\n",
      "60 -> 62 ;\n",
      "}\n"
     ]
    },
    {
     "name": "stderr",
     "output_type": "stream",
     "text": [
      "c:\\Python311\\Lib\\site-packages\\sklearn\\base.py:486: UserWarning: X has feature names, but DecisionTreeClassifier was fitted without feature names\n",
      "  warnings.warn(\n"
     ]
    },
    {
     "data": {
      "text/plain": [
       "'precision = [0.64152411 0.44990099 0.5563151  0.76369863]'"
      ]
     },
     "metadata": {},
     "output_type": "display_data"
    },
    {
     "data": {
      "text/plain": [
       "'recall = [0.63218391 0.60993289 0.45524774 0.64586625]'"
      ]
     },
     "metadata": {},
     "output_type": "display_data"
    },
    {
     "data": {
      "text/plain": [
       "'f-score = [0.63681976 0.51783476 0.50073249 0.69985735]'"
      ]
     },
     "metadata": {},
     "output_type": "display_data"
    },
    {
     "data": {
      "text/html": [
       "<div>\n",
       "<style scoped>\n",
       "    .dataframe tbody tr th:only-of-type {\n",
       "        vertical-align: middle;\n",
       "    }\n",
       "\n",
       "    .dataframe tbody tr th {\n",
       "        vertical-align: top;\n",
       "    }\n",
       "\n",
       "    .dataframe thead th {\n",
       "        text-align: right;\n",
       "    }\n",
       "</style>\n",
       "<table border=\"1\" class=\"dataframe\">\n",
       "  <thead>\n",
       "    <tr style=\"text-align: right;\">\n",
       "      <th></th>\n",
       "      <th>feature</th>\n",
       "      <th>importance</th>\n",
       "    </tr>\n",
       "  </thead>\n",
       "  <tbody>\n",
       "    <tr>\n",
       "      <th>0</th>\n",
       "      <td>bed</td>\n",
       "      <td>0.000000</td>\n",
       "    </tr>\n",
       "    <tr>\n",
       "      <th>1</th>\n",
       "      <td>bath</td>\n",
       "      <td>0.052985</td>\n",
       "    </tr>\n",
       "    <tr>\n",
       "      <th>2</th>\n",
       "      <td>acre_lot</td>\n",
       "      <td>0.094323</td>\n",
       "    </tr>\n",
       "    <tr>\n",
       "      <th>3</th>\n",
       "      <td>house_size</td>\n",
       "      <td>0.844411</td>\n",
       "    </tr>\n",
       "    <tr>\n",
       "      <th>4</th>\n",
       "      <td>utah</td>\n",
       "      <td>0.006631</td>\n",
       "    </tr>\n",
       "    <tr>\n",
       "      <th>5</th>\n",
       "      <td>days_since_last_sale</td>\n",
       "      <td>0.001650</td>\n",
       "    </tr>\n",
       "  </tbody>\n",
       "</table>\n",
       "</div>"
      ],
      "text/plain": [
       "                feature  importance\n",
       "0                   bed    0.000000\n",
       "1                  bath    0.052985\n",
       "2              acre_lot    0.094323\n",
       "3            house_size    0.844411\n",
       "4                  utah    0.006631\n",
       "5  days_since_last_sale    0.001650"
      ]
     },
     "execution_count": 169,
     "metadata": {},
     "output_type": "execute_result"
    }
   ],
   "source": [
    "# create a list of feature columns\n",
    "feature_cols = ['bed', 'bath', 'acre_lot', 'house_size', 'utah', 'days_since_last_sale']\n",
    "\n",
    "# define X and y\n",
    "X = df[feature_cols]\n",
    "y = df.price_range_encoded\n",
    "\n",
    "# fit a classification tree on all data\n",
    "treeclf = DecisionTreeClassifier(max_depth=5, random_state=1)\n",
    "treeclf.fit(X.values, y)\n",
    "\n",
    "dot = tree.export_graphviz(treeclf, out_file=None,\n",
    "                                    feature_names=feature_cols,\n",
    "                                    class_names=['0', '1', '2', '3'], filled = True)\n",
    "\n",
    "# output dot code to copy/paste into https://dreampuf.github.io/GraphvizOnline\n",
    "print(dot)\n",
    "\n",
    "y_pred = treeclf.predict(X)\n",
    "\n",
    "p,r,f,s = precision_recall_fscore_support(y, y_pred, labels=[0, 1, 2, 3])\n",
    "display('precision = {}'.format(p))\n",
    "display('recall = {}'.format(r))\n",
    "display('f-score = {}'.format(f))\n",
    "\n",
    "pd.DataFrame({'feature':feature_cols, 'importance':treeclf.feature_importances_})"
   ]
  },
  {
   "cell_type": "markdown",
   "id": "c68e924d",
   "metadata": {},
   "source": [
    "#### Monte Carlo cross-validation"
   ]
  },
  {
   "cell_type": "code",
   "execution_count": 167,
   "id": "5f7ab9b1",
   "metadata": {},
   "outputs": [
    {
     "data": {
      "text/plain": [
       "'precision = [0.61506497 0.44388534 0.54552542 0.7707855 ]'"
      ]
     },
     "metadata": {},
     "output_type": "display_data"
    },
    {
     "data": {
      "text/plain": [
       "'recall = [0.68553899 0.54109085 0.45792931 0.62252932]'"
      ]
     },
     "metadata": {},
     "output_type": "display_data"
    },
    {
     "data": {
      "text/plain": [
       "'f-score = [0.64407598 0.48396581 0.49660558 0.68796472]'"
      ]
     },
     "metadata": {},
     "output_type": "display_data"
    }
   ],
   "source": [
    "# create a list of feature columns\n",
    "feature_cols = ['bed', 'bath', 'acre_lot', 'house_size', 'utah', 'days_since_last_sale']\n",
    "\n",
    "# define X and y\n",
    "X = df[feature_cols]\n",
    "y = df.price_range_encoded\n",
    "\n",
    "scores = {'p': [], 'r': [], 'f': []}\n",
    "for _ in range(30):\n",
    "    X_train, X_test, y_train, y_test = train_test_split(X, y, test_size=0.25)#, random_state=42)\n",
    "\n",
    "    # fit a classification tree on all data\n",
    "    treeclf = DecisionTreeClassifier(max_depth=5, random_state=1)\n",
    "    treeclf.fit(X_train, y_train)\n",
    "\n",
    "    y_pred = treeclf.predict(X_test)\n",
    "\n",
    "    p,r,f,s = precision_recall_fscore_support(y_test, y_pred, labels=[0, 1, 2, 3])\n",
    "    scores['p'].append(p)\n",
    "    scores['r'].append(r)\n",
    "    scores['f'].append(f)\n",
    "\n",
    "avgP = 0\n",
    "for pre in scores['p']:\n",
    "    avgP += pre\n",
    "avgP /= len(scores['p'])\n",
    "\n",
    "avgR = 0\n",
    "for re in scores['r']:\n",
    "    avgR += re\n",
    "avgR /= len(scores['r'])\n",
    "\n",
    "avgF = 0\n",
    "for f in scores['f']:\n",
    "    avgF += f\n",
    "avgF /= len(scores['f'])\n",
    "\n",
    "display('precision = {}'.format(avgP))\n",
    "display('recall = {}'.format(avgR))\n",
    "display('f-score = {}'.format(avgF))"
   ]
  },
  {
   "cell_type": "markdown",
   "id": "aba00f09",
   "metadata": {},
   "source": [
    "### Testing the most important feature only"
   ]
  },
  {
   "cell_type": "code",
   "execution_count": 176,
   "id": "5103b57a",
   "metadata": {},
   "outputs": [
    {
     "name": "stdout",
     "output_type": "stream",
     "text": [
      "digraph Tree {\n",
      "node [shape=box, style=\"filled\", color=\"black\", fontname=\"helvetica\"] ;\n",
      "edge [fontname=\"helvetica\"] ;\n",
      "0 [label=\"house_size <= 2938.5\\ngini = 0.75\\nsamples = 15192\\nvalue = [3915.0, 3725.0, 3754.0, 3798.0]\\nclass = 0\", fillcolor=\"#fffefd\"] ;\n",
      "1 [label=\"house_size <= 1613.5\\ngini = 0.696\\nsamples = 9842\\nvalue = [3823.0, 3271.0, 1823.0, 925.0]\\nclass = 0\", fillcolor=\"#fdf4ee\"] ;\n",
      "0 -> 1 [labeldistance=2.5, labelangle=45, headlabel=\"True\"] ;\n",
      "2 [label=\"house_size <= 1272.5\\ngini = 0.49\\nsamples = 3386\\nvalue = [2302, 681, 239, 164]\\nclass = 0\", fillcolor=\"#efb388\"] ;\n",
      "1 -> 2 ;\n",
      "3 [label=\"house_size <= 704.5\\ngini = 0.418\\nsamples = 1712\\nvalue = [1275, 254, 105, 78]\\nclass = 0\", fillcolor=\"#eda774\"] ;\n",
      "2 -> 3 ;\n",
      "4 [label=\"house_size <= 569.5\\ngini = 0.161\\nsamples = 127\\nvalue = [116, 8, 3, 0]\\nclass = 0\", fillcolor=\"#e78d4b\"] ;\n",
      "3 -> 4 ;\n",
      "5 [label=\"gini = 0.046\\nsamples = 42\\nvalue = [41, 1, 0, 0]\\nclass = 0\", fillcolor=\"#e6843e\"] ;\n",
      "4 -> 5 ;\n",
      "6 [label=\"gini = 0.213\\nsamples = 85\\nvalue = [75, 7, 3, 0]\\nclass = 0\", fillcolor=\"#e89152\"] ;\n",
      "4 -> 6 ;\n",
      "7 [label=\"house_size <= 1002.5\\ngini = 0.435\\nsamples = 1585\\nvalue = [1159.0, 246.0, 102.0, 78.0]\\nclass = 0\", fillcolor=\"#eda978\"] ;\n",
      "3 -> 7 ;\n",
      "8 [label=\"gini = 0.396\\nsamples = 587\\nvalue = [448, 73, 36, 30]\\nclass = 0\", fillcolor=\"#eca36f\"] ;\n",
      "7 -> 8 ;\n",
      "9 [label=\"gini = 0.456\\nsamples = 998\\nvalue = [711, 173, 66, 48]\\nclass = 0\", fillcolor=\"#eead7e\"] ;\n",
      "7 -> 9 ;\n",
      "10 [label=\"house_size <= 1450.5\\ngini = 0.55\\nsamples = 1674\\nvalue = [1027, 427, 134, 86]\\nclass = 0\", fillcolor=\"#f2c2a0\"] ;\n",
      "2 -> 10 ;\n",
      "11 [label=\"house_size <= 1428.5\\ngini = 0.525\\nsamples = 858\\nvalue = [551, 202, 59, 46]\\nclass = 0\", fillcolor=\"#f1bc96\"] ;\n",
      "10 -> 11 ;\n",
      "12 [label=\"gini = 0.537\\nsamples = 729\\nvalue = [458.0, 179.0, 52.0, 40.0]\\nclass = 0\", fillcolor=\"#f2bf9b\"] ;\n",
      "11 -> 12 ;\n",
      "13 [label=\"gini = 0.443\\nsamples = 129\\nvalue = [93, 23, 7, 6]\\nclass = 0\", fillcolor=\"#eeac7c\"] ;\n",
      "11 -> 13 ;\n",
      "14 [label=\"house_size <= 1588.5\\ngini = 0.573\\nsamples = 816\\nvalue = [476.0, 225.0, 75.0, 40.0]\\nclass = 0\", fillcolor=\"#f4c9ab\"] ;\n",
      "10 -> 14 ;\n",
      "15 [label=\"gini = 0.587\\nsamples = 684\\nvalue = [384.0, 201.0, 63.0, 36.0]\\nclass = 0\", fillcolor=\"#f5cfb4\"] ;\n",
      "14 -> 15 ;\n",
      "16 [label=\"gini = 0.472\\nsamples = 132\\nvalue = [92, 24, 12, 4]\\nclass = 0\", fillcolor=\"#efb082\"] ;\n",
      "14 -> 16 ;\n",
      "17 [label=\"house_size <= 2145.5\\ngini = 0.709\\nsamples = 6456\\nvalue = [1521, 2590, 1584, 761]\\nclass = 1\", fillcolor=\"#d9fad6\"] ;\n",
      "1 -> 17 ;\n",
      "18 [label=\"house_size <= 1787.5\\ngini = 0.68\\nsamples = 3022\\nvalue = [1026.0, 1237.0, 543.0, 216.0]\\nclass = 1\", fillcolor=\"#ecfcea\"] ;\n",
      "17 -> 18 ;\n",
      "19 [label=\"house_size <= 1784.5\\ngini = 0.664\\nsamples = 980\\nvalue = [404, 361, 162, 53]\\nclass = 0\", fillcolor=\"#fdf6f1\"] ;\n",
      "18 -> 19 ;\n",
      "20 [label=\"gini = 0.665\\nsamples = 960\\nvalue = [391, 358, 158, 53]\\nclass = 0\", fillcolor=\"#fef8f4\"] ;\n",
      "19 -> 20 ;\n",
      "21 [label=\"gini = 0.515\\nsamples = 20\\nvalue = [13, 3, 4, 0]\\nclass = 0\", fillcolor=\"#f0b890\"] ;\n",
      "19 -> 21 ;\n",
      "22 [label=\"house_size <= 2053.5\\ngini = 0.682\\nsamples = 2042\\nvalue = [622, 876, 381, 163]\\nclass = 1\", fillcolor=\"#defadc\"] ;\n",
      "18 -> 22 ;\n",
      "23 [label=\"gini = 0.674\\nsamples = 1595\\nvalue = [498.0, 699.0, 281.0, 117.0]\\nclass = 1\", fillcolor=\"#ddfadb\"] ;\n",
      "22 -> 23 ;\n",
      "24 [label=\"gini = 0.706\\nsamples = 447\\nvalue = [124.0, 177.0, 100.0, 46.0]\\nclass = 1\", fillcolor=\"#e1fbdf\"] ;\n",
      "22 -> 24 ;\n",
      "25 [label=\"house_size <= 2392.5\\ngini = 0.707\\nsamples = 3434\\nvalue = [495, 1353, 1041, 545]\\nclass = 1\", fillcolor=\"#e7fce5\"] ;\n",
      "17 -> 25 ;\n",
      "26 [label=\"house_size <= 2146.5\\ngini = 0.704\\nsamples = 1232\\nvalue = [246, 518, 307, 161]\\nclass = 1\", fillcolor=\"#d5f9d2\"] ;\n",
      "25 -> 26 ;\n",
      "27 [label=\"gini = 0.571\\nsamples = 7\\nvalue = [2, 1, 4, 0]\\nclass = 2\", fillcolor=\"#b0d8f5\"] ;\n",
      "26 -> 27 ;\n",
      "28 [label=\"gini = 0.704\\nsamples = 1225\\nvalue = [244, 517, 303, 161]\\nclass = 1\", fillcolor=\"#d4f9d1\"] ;\n",
      "26 -> 28 ;\n",
      "29 [label=\"house_size <= 2622.5\\ngini = 0.702\\nsamples = 2202\\nvalue = [249, 835, 734, 384]\\nclass = 1\", fillcolor=\"#f2fdf1\"] ;\n",
      "25 -> 29 ;\n",
      "30 [label=\"gini = 0.702\\nsamples = 1030\\nvalue = [128, 408, 323, 171]\\nclass = 1\", fillcolor=\"#e9fce7\"] ;\n",
      "29 -> 30 ;\n",
      "31 [label=\"gini = 0.701\\nsamples = 1172\\nvalue = [121, 427, 411, 213]\\nclass = 1\", fillcolor=\"#fbfefb\"] ;\n",
      "29 -> 31 ;\n",
      "32 [label=\"house_size <= 4311.5\\ngini = 0.574\\nsamples = 5350\\nvalue = [92.0, 454.0, 1931.0, 2873.0]\\nclass = 3\", fillcolor=\"#f4c8f8\"] ;\n",
      "0 -> 32 [labeldistance=2.5, labelangle=-45, headlabel=\"False\"] ;\n",
      "33 [label=\"house_size <= 3716.0\\ngini = 0.612\\nsamples = 3435\\nvalue = [86.0, 440.0, 1726.0, 1183.0]\\nclass = 2\", fillcolor=\"#cfe7f9\"] ;\n",
      "32 -> 33 ;\n",
      "34 [label=\"house_size <= 3204.5\\ngini = 0.62\\nsamples = 2280\\nvalue = [74.0, 396.0, 1201.0, 609.0]\\nclass = 2\", fillcolor=\"#b9dcf6\"] ;\n",
      "33 -> 34 ;\n",
      "35 [label=\"house_size <= 3096.5\\ngini = 0.66\\nsamples = 919\\nvalue = [46, 229, 434, 210]\\nclass = 2\", fillcolor=\"#c4e2f7\"] ;\n",
      "34 -> 35 ;\n",
      "36 [label=\"gini = 0.676\\nsamples = 548\\nvalue = [30, 146, 240, 132]\\nclass = 2\", fillcolor=\"#d1e8f9\"] ;\n",
      "35 -> 36 ;\n",
      "37 [label=\"gini = 0.63\\nsamples = 371\\nvalue = [16, 83, 194, 78]\\nclass = 2\", fillcolor=\"#b3d9f5\"] ;\n",
      "35 -> 37 ;\n",
      "38 [label=\"house_size <= 3433.5\\ngini = 0.581\\nsamples = 1361\\nvalue = [28, 167, 767, 399]\\nclass = 2\", fillcolor=\"#b3daf5\"] ;\n",
      "34 -> 38 ;\n",
      "39 [label=\"gini = 0.585\\nsamples = 651\\nvalue = [16, 97, 373, 165]\\nclass = 2\", fillcolor=\"#aad5f4\"] ;\n",
      "38 -> 39 ;\n",
      "40 [label=\"gini = 0.573\\nsamples = 710\\nvalue = [12.0, 70.0, 394.0, 234.0]\\nclass = 2\", fillcolor=\"#bcdef6\"] ;\n",
      "38 -> 40 ;\n",
      "41 [label=\"house_size <= 3973.5\\ngini = 0.545\\nsamples = 1155\\nvalue = [12.0, 44.0, 525.0, 574.0]\\nclass = 3\", fillcolor=\"#fcf0fd\"] ;\n",
      "33 -> 41 ;\n",
      "42 [label=\"house_size <= 3727.5\\ngini = 0.556\\nsamples = 597\\nvalue = [8, 30, 304, 255]\\nclass = 2\", fillcolor=\"#e3f1fb\"] ;\n",
      "41 -> 42 ;\n",
      "43 [label=\"gini = 0.483\\nsamples = 27\\nvalue = [0, 0, 11, 16]\\nclass = 3\", fillcolor=\"#f2c1f7\"] ;\n",
      "42 -> 43 ;\n",
      "44 [label=\"gini = 0.557\\nsamples = 570\\nvalue = [8.0, 30.0, 293.0, 239.0]\\nclass = 2\", fillcolor=\"#dfeffb\"] ;\n",
      "42 -> 44 ;\n",
      "45 [label=\"house_size <= 3975.5\\ngini = 0.516\\nsamples = 558\\nvalue = [4, 14, 221, 319]\\nclass = 3\", fillcolor=\"#f3c5f7\"] ;\n",
      "41 -> 45 ;\n",
      "46 [label=\"gini = 0.0\\nsamples = 6\\nvalue = [0, 0, 0, 6]\\nclass = 3\", fillcolor=\"#d739e5\"] ;\n",
      "45 -> 46 ;\n",
      "47 [label=\"gini = 0.517\\nsamples = 552\\nvalue = [4, 14, 221, 313]\\nclass = 3\", fillcolor=\"#f4c8f8\"] ;\n",
      "45 -> 47 ;\n",
      "48 [label=\"house_size <= 4979.5\\ngini = 0.21\\nsamples = 1915\\nvalue = [6, 14, 205, 1690]\\nclass = 3\", fillcolor=\"#dc53e8\"] ;\n",
      "32 -> 48 ;\n",
      "49 [label=\"house_size <= 4671.5\\ngini = 0.381\\nsamples = 748\\nvalue = [2.0, 10.0, 174.0, 562.0]\\nclass = 3\", fillcolor=\"#e479ed\"] ;\n",
      "48 -> 49 ;\n",
      "50 [label=\"house_size <= 4668.5\\ngini = 0.423\\nsamples = 480\\nvalue = [1, 9, 129, 341]\\nclass = 3\", fillcolor=\"#e787ef\"] ;\n",
      "49 -> 50 ;\n",
      "51 [label=\"gini = 0.417\\nsamples = 476\\nvalue = [1, 9, 125, 341]\\nclass = 3\", fillcolor=\"#e685ef\"] ;\n",
      "50 -> 51 ;\n",
      "52 [label=\"gini = 0.0\\nsamples = 4\\nvalue = [0, 0, 4, 0]\\nclass = 2\", fillcolor=\"#399de5\"] ;\n",
      "50 -> 52 ;\n",
      "53 [label=\"house_size <= 4974.5\\ngini = 0.292\\nsamples = 268\\nvalue = [1, 1, 45, 221]\\nclass = 3\", fillcolor=\"#df63ea\"] ;\n",
      "49 -> 53 ;\n",
      "54 [label=\"gini = 0.28\\nsamples = 264\\nvalue = [1, 1, 42, 220]\\nclass = 3\", fillcolor=\"#df60ea\"] ;\n",
      "53 -> 54 ;\n",
      "55 [label=\"gini = 0.375\\nsamples = 4\\nvalue = [0, 0, 3, 1]\\nclass = 2\", fillcolor=\"#7bbeee\"] ;\n",
      "53 -> 55 ;\n",
      "56 [label=\"house_size <= 5059.5\\ngini = 0.065\\nsamples = 1167\\nvalue = [4, 4, 31, 1128]\\nclass = 3\", fillcolor=\"#d840e6\"] ;\n",
      "48 -> 56 ;\n",
      "57 [label=\"house_size <= 5049.5\\ngini = 0.258\\nsamples = 82\\nvalue = [1, 2, 9, 70]\\nclass = 3\", fillcolor=\"#de5ae9\"] ;\n",
      "56 -> 57 ;\n",
      "58 [label=\"gini = 0.205\\nsamples = 71\\nvalue = [1, 1, 6, 63]\\nclass = 3\", fillcolor=\"#dc51e8\"] ;\n",
      "57 -> 58 ;\n",
      "59 [label=\"gini = 0.512\\nsamples = 11\\nvalue = [0, 1, 3, 7]\\nclass = 3\", fillcolor=\"#eb9cf2\"] ;\n",
      "57 -> 59 ;\n",
      "60 [label=\"house_size <= 5932.5\\ngini = 0.049\\nsamples = 1085\\nvalue = [3.0, 2.0, 22.0, 1058.0]\\nclass = 3\", fillcolor=\"#d83ee6\"] ;\n",
      "56 -> 60 ;\n",
      "61 [label=\"gini = 0.093\\nsamples = 494\\nvalue = [1, 2, 21, 470]\\nclass = 3\", fillcolor=\"#d943e6\"] ;\n",
      "60 -> 61 ;\n",
      "62 [label=\"gini = 0.01\\nsamples = 591\\nvalue = [2, 0, 1, 588]\\nclass = 3\", fillcolor=\"#d73ae5\"] ;\n",
      "60 -> 62 ;\n",
      "}\n"
     ]
    },
    {
     "name": "stderr",
     "output_type": "stream",
     "text": [
      "c:\\Python311\\Lib\\site-packages\\sklearn\\base.py:486: UserWarning: X has feature names, but DecisionTreeClassifier was fitted without feature names\n",
      "  warnings.warn(\n"
     ]
    },
    {
     "data": {
      "text/plain": [
       "'precision = [0.61978928 0.40738709 0.52530541 0.81219904]'"
      ]
     },
     "metadata": {},
     "output_type": "display_data"
    },
    {
     "data": {
      "text/plain": [
       "'recall = [0.69118774 0.59812081 0.4009057  0.53291206]'"
      ]
     },
     "metadata": {},
     "output_type": "display_data"
    },
    {
     "data": {
      "text/plain": [
       "'f-score = [0.65354426 0.48466391 0.45475147 0.64356121]'"
      ]
     },
     "metadata": {},
     "output_type": "display_data"
    }
   ],
   "source": [
    "# create a list of feature columns\n",
    "feature_cols = ['house_size']\n",
    "\n",
    "# define X and y\n",
    "X = df[feature_cols]\n",
    "y = df.price_range_encoded\n",
    "\n",
    "# fit a classification tree on all data\n",
    "treeclf = DecisionTreeClassifier(max_depth=5, random_state=1)\n",
    "treeclf.fit(X.values, y)\n",
    "\n",
    "dot = tree.export_graphviz(treeclf, out_file=None,\n",
    "                                    feature_names=feature_cols,\n",
    "                                    class_names=['0', '1', '2', '3'], filled = True)\n",
    "\n",
    "# output dot code to copy/paste into https://dreampuf.github.io/GraphvizOnline\n",
    "print(dot)\n",
    "\n",
    "y_pred = treeclf.predict(X)\n",
    "\n",
    "p,r,f,s = precision_recall_fscore_support(y, y_pred, labels=[0, 1, 2, 3])\n",
    "display('precision = {}'.format(p))\n",
    "display('recall = {}'.format(r))\n",
    "display('f-score = {}'.format(f))"
   ]
  },
  {
   "cell_type": "code",
   "execution_count": 175,
   "id": "2bc79f70",
   "metadata": {},
   "outputs": [
    {
     "name": "stdout",
     "output_type": "stream",
     "text": [
      "digraph Tree {\n",
      "node [shape=box, style=\"filled\", color=\"black\", fontname=\"helvetica\"] ;\n",
      "edge [fontname=\"helvetica\"] ;\n",
      "0 [label=\"house_size <= 2938.5\\ngini = 0.75\\nsamples = 15192\\nvalue = [3915.0, 3725.0, 3754.0, 3798.0]\\nclass = 0\", fillcolor=\"#fffefd\"] ;\n",
      "1 [label=\"house_size <= 1613.5\\ngini = 0.696\\nsamples = 9842\\nvalue = [3823.0, 3271.0, 1823.0, 925.0]\\nclass = 0\", fillcolor=\"#fdf4ee\"] ;\n",
      "0 -> 1 [labeldistance=2.5, labelangle=45, headlabel=\"True\"] ;\n",
      "2 [label=\"house_size <= 1272.5\\ngini = 0.49\\nsamples = 3386\\nvalue = [2302, 681, 239, 164]\\nclass = 0\", fillcolor=\"#efb388\"] ;\n",
      "1 -> 2 ;\n",
      "3 [label=\"house_size <= 704.5\\ngini = 0.418\\nsamples = 1712\\nvalue = [1275, 254, 105, 78]\\nclass = 0\", fillcolor=\"#eda774\"] ;\n",
      "2 -> 3 ;\n",
      "4 [label=\"gini = 0.161\\nsamples = 127\\nvalue = [116, 8, 3, 0]\\nclass = 0\", fillcolor=\"#e78d4b\"] ;\n",
      "3 -> 4 ;\n",
      "5 [label=\"gini = 0.435\\nsamples = 1585\\nvalue = [1159.0, 246.0, 102.0, 78.0]\\nclass = 0\", fillcolor=\"#eda978\"] ;\n",
      "3 -> 5 ;\n",
      "6 [label=\"house_size <= 1450.5\\ngini = 0.55\\nsamples = 1674\\nvalue = [1027, 427, 134, 86]\\nclass = 0\", fillcolor=\"#f2c2a0\"] ;\n",
      "2 -> 6 ;\n",
      "7 [label=\"gini = 0.525\\nsamples = 858\\nvalue = [551, 202, 59, 46]\\nclass = 0\", fillcolor=\"#f1bc96\"] ;\n",
      "6 -> 7 ;\n",
      "8 [label=\"gini = 0.573\\nsamples = 816\\nvalue = [476.0, 225.0, 75.0, 40.0]\\nclass = 0\", fillcolor=\"#f4c9ab\"] ;\n",
      "6 -> 8 ;\n",
      "9 [label=\"house_size <= 2145.5\\ngini = 0.709\\nsamples = 6456\\nvalue = [1521, 2590, 1584, 761]\\nclass = 1\", fillcolor=\"#d9fad6\"] ;\n",
      "1 -> 9 ;\n",
      "10 [label=\"house_size <= 1787.5\\ngini = 0.68\\nsamples = 3022\\nvalue = [1026.0, 1237.0, 543.0, 216.0]\\nclass = 1\", fillcolor=\"#ecfcea\"] ;\n",
      "9 -> 10 ;\n",
      "11 [label=\"gini = 0.664\\nsamples = 980\\nvalue = [404, 361, 162, 53]\\nclass = 0\", fillcolor=\"#fdf6f1\"] ;\n",
      "10 -> 11 ;\n",
      "12 [label=\"gini = 0.682\\nsamples = 2042\\nvalue = [622, 876, 381, 163]\\nclass = 1\", fillcolor=\"#defadc\"] ;\n",
      "10 -> 12 ;\n",
      "13 [label=\"house_size <= 2392.5\\ngini = 0.707\\nsamples = 3434\\nvalue = [495, 1353, 1041, 545]\\nclass = 1\", fillcolor=\"#e7fce5\"] ;\n",
      "9 -> 13 ;\n",
      "14 [label=\"gini = 0.704\\nsamples = 1232\\nvalue = [246, 518, 307, 161]\\nclass = 1\", fillcolor=\"#d5f9d2\"] ;\n",
      "13 -> 14 ;\n",
      "15 [label=\"gini = 0.702\\nsamples = 2202\\nvalue = [249, 835, 734, 384]\\nclass = 1\", fillcolor=\"#f2fdf1\"] ;\n",
      "13 -> 15 ;\n",
      "16 [label=\"house_size <= 4311.5\\ngini = 0.574\\nsamples = 5350\\nvalue = [92.0, 454.0, 1931.0, 2873.0]\\nclass = 3\", fillcolor=\"#f4c8f8\"] ;\n",
      "0 -> 16 [labeldistance=2.5, labelangle=-45, headlabel=\"False\"] ;\n",
      "17 [label=\"house_size <= 3716.0\\ngini = 0.612\\nsamples = 3435\\nvalue = [86.0, 440.0, 1726.0, 1183.0]\\nclass = 2\", fillcolor=\"#cfe7f9\"] ;\n",
      "16 -> 17 ;\n",
      "18 [label=\"house_size <= 3204.5\\ngini = 0.62\\nsamples = 2280\\nvalue = [74.0, 396.0, 1201.0, 609.0]\\nclass = 2\", fillcolor=\"#b9dcf6\"] ;\n",
      "17 -> 18 ;\n",
      "19 [label=\"gini = 0.66\\nsamples = 919\\nvalue = [46, 229, 434, 210]\\nclass = 2\", fillcolor=\"#c4e2f7\"] ;\n",
      "18 -> 19 ;\n",
      "20 [label=\"gini = 0.581\\nsamples = 1361\\nvalue = [28, 167, 767, 399]\\nclass = 2\", fillcolor=\"#b3daf5\"] ;\n",
      "18 -> 20 ;\n",
      "21 [label=\"house_size <= 3973.5\\ngini = 0.545\\nsamples = 1155\\nvalue = [12.0, 44.0, 525.0, 574.0]\\nclass = 3\", fillcolor=\"#fcf0fd\"] ;\n",
      "17 -> 21 ;\n",
      "22 [label=\"gini = 0.556\\nsamples = 597\\nvalue = [8, 30, 304, 255]\\nclass = 2\", fillcolor=\"#e3f1fb\"] ;\n",
      "21 -> 22 ;\n",
      "23 [label=\"gini = 0.516\\nsamples = 558\\nvalue = [4, 14, 221, 319]\\nclass = 3\", fillcolor=\"#f3c5f7\"] ;\n",
      "21 -> 23 ;\n",
      "24 [label=\"house_size <= 4979.5\\ngini = 0.21\\nsamples = 1915\\nvalue = [6, 14, 205, 1690]\\nclass = 3\", fillcolor=\"#dc53e8\"] ;\n",
      "16 -> 24 ;\n",
      "25 [label=\"house_size <= 4671.5\\ngini = 0.381\\nsamples = 748\\nvalue = [2.0, 10.0, 174.0, 562.0]\\nclass = 3\", fillcolor=\"#e479ed\"] ;\n",
      "24 -> 25 ;\n",
      "26 [label=\"gini = 0.423\\nsamples = 480\\nvalue = [1, 9, 129, 341]\\nclass = 3\", fillcolor=\"#e787ef\"] ;\n",
      "25 -> 26 ;\n",
      "27 [label=\"gini = 0.292\\nsamples = 268\\nvalue = [1, 1, 45, 221]\\nclass = 3\", fillcolor=\"#df63ea\"] ;\n",
      "25 -> 27 ;\n",
      "28 [label=\"house_size <= 5059.5\\ngini = 0.065\\nsamples = 1167\\nvalue = [4, 4, 31, 1128]\\nclass = 3\", fillcolor=\"#d840e6\"] ;\n",
      "24 -> 28 ;\n",
      "29 [label=\"gini = 0.258\\nsamples = 82\\nvalue = [1, 2, 9, 70]\\nclass = 3\", fillcolor=\"#de5ae9\"] ;\n",
      "28 -> 29 ;\n",
      "30 [label=\"gini = 0.049\\nsamples = 1085\\nvalue = [3.0, 2.0, 22.0, 1058.0]\\nclass = 3\", fillcolor=\"#d83ee6\"] ;\n",
      "28 -> 30 ;\n",
      "}\n"
     ]
    },
    {
     "name": "stderr",
     "output_type": "stream",
     "text": [
      "c:\\Python311\\Lib\\site-packages\\sklearn\\base.py:486: UserWarning: X has feature names, but DecisionTreeClassifier was fitted without feature names\n",
      "  warnings.warn(\n"
     ]
    },
    {
     "data": {
      "text/plain": [
       "'precision = [0.61978928 0.40704894 0.52311436 0.81237364]'"
      ]
     },
     "metadata": {},
     "output_type": "display_data"
    },
    {
     "data": {
      "text/plain": [
       "'recall = [0.69118774 0.59838926 0.4009057  0.52896261]'"
      ]
     },
     "metadata": {},
     "output_type": "display_data"
    },
    {
     "data": {
      "text/plain": [
       "'f-score = [0.65354426 0.48451255 0.45392852 0.64072716]'"
      ]
     },
     "metadata": {},
     "output_type": "display_data"
    }
   ],
   "source": [
    "# create a list of feature columns\n",
    "feature_cols = ['house_size']\n",
    "\n",
    "# define X and y\n",
    "X = df[feature_cols]\n",
    "y = df.price_range_encoded\n",
    "\n",
    "# fit a classification tree on all data\n",
    "treeclf = DecisionTreeClassifier(max_depth=4, random_state=1)\n",
    "treeclf.fit(X.values, y)\n",
    "\n",
    "dot = tree.export_graphviz(treeclf, out_file=None,\n",
    "                                    feature_names=feature_cols,\n",
    "                                    class_names=['0', '1', '2', '3'], filled = True)\n",
    "\n",
    "# output dot code to copy/paste into https://dreampuf.github.io/GraphvizOnline\n",
    "print(dot)\n",
    "\n",
    "y_pred = treeclf.predict(X)\n",
    "\n",
    "p,r,f,s = precision_recall_fscore_support(y, y_pred, labels=[0, 1, 2, 3])\n",
    "display('precision = {}'.format(p))\n",
    "display('recall = {}'.format(r))\n",
    "display('f-score = {}'.format(f))"
   ]
  },
  {
   "cell_type": "markdown",
   "id": "c92e71a4",
   "metadata": {},
   "source": [
    "## Neural Networks"
   ]
  },
  {
   "cell_type": "code",
   "execution_count": null,
   "id": "8192a817",
   "metadata": {},
   "outputs": [],
   "source": []
  }
 ],
 "metadata": {
  "kernelspec": {
   "display_name": "Python 3",
   "language": "python",
   "name": "python3"
  },
  "language_info": {
   "codemirror_mode": {
    "name": "ipython",
    "version": 3
   },
   "file_extension": ".py",
   "mimetype": "text/x-python",
   "name": "python",
   "nbconvert_exporter": "python",
   "pygments_lexer": "ipython3",
   "version": "3.11.0"
  }
 },
 "nbformat": 4,
 "nbformat_minor": 5
}
