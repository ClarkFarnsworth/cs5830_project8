{
 "cells": [
  {
   "cell_type": "markdown",
   "id": "86a4397f8b382ebb",
   "metadata": {
    "collapsed": false
   },
   "source": [
    "# Project 7\n",
    "\n",
    "- [Report](https://docs.google.com/document/d/1pSs_wpHYjo1OZ9z9QwRaCo_tz4DWXqKcrAWFAfhqMJg/edit?usp=sharing)\n",
    "- [Slides](https://docs.google.com/presentation/d/1DMBQFvKbaLcGgou52KNbLoPdnhCPeLiOwgPv8jg1U-E/edit?usp=sharing)\n",
    "- [Dataset](https://www.kaggle.com/datasets/ahmedshahriarsakib/usa-real-estate-dataset)"
   ]
  },
  {
   "cell_type": "markdown",
   "id": "664f7a90ad922e6a",
   "metadata": {
    "collapsed": false
   },
   "source": [
    "## Setup"
   ]
  },
  {
   "cell_type": "code",
   "execution_count": null,
   "id": "initial_id",
   "metadata": {
    "collapsed": true
   },
   "outputs": [],
   "source": [
    "import matplotlib.pyplot as plt\n",
    "import pandas as pd\n",
    "import seaborn as sns\n",
    "from sklearn.metrics import precision_recall_fscore_support\n",
    "from sklearn.model_selection import train_test_split\n",
    "from sklearn.tree import DecisionTreeClassifier\n",
    "from sklearn import tree"
   ]
  },
  {
   "cell_type": "markdown",
   "id": "d3bdcfc6",
   "metadata": {},
   "source": [
    "## Exploring/Cleaning Data"
   ]
  },
  {
   "cell_type": "markdown",
   "id": "6b9210f0",
   "metadata": {},
   "source": [
    "### Collect Utah and Colorado housing data"
   ]
  },
  {
   "cell_type": "code",
   "execution_count": null,
   "id": "f4a03096",
   "metadata": {},
   "outputs": [],
   "source": [
    "df = pd.read_csv('realtor-data.csv')\n",
    "df = df[df['state'].isin(['Utah', 'Colorado'])]\n",
    "df = df.dropna()\n",
    "print(f'This dataset includes houses sold as recently as {pd.to_datetime(df[\"prev_sold_date\"]).max().date()}')\n",
    "# df = df.drop(df[df.status == 'sold'].index)\n",
    "df = df.reset_index(drop=True)\n",
    "df"
   ]
  },
  {
   "cell_type": "code",
   "execution_count": null,
   "id": "948ea30b",
   "metadata": {},
   "outputs": [],
   "source": [
    "print(f'This dataset includes houses sold as long ago as {pd.to_datetime(df[\"prev_sold_date\"]).min().date()}')"
   ]
  },
  {
   "cell_type": "markdown",
   "id": "2e7c060d",
   "metadata": {},
   "source": [
    "### Ensure that the two states have similar data to each other and remove outliers"
   ]
  },
  {
   "cell_type": "code",
   "execution_count": null,
   "id": "086d235d",
   "metadata": {},
   "outputs": [],
   "source": [
    "display(df.describe())\n",
    "display(df[df.state == 'Utah'].describe())\n",
    "display(df[df.state == 'Colorado'].describe())"
   ]
  },
  {
   "cell_type": "code",
   "execution_count": null,
   "id": "9724feff",
   "metadata": {},
   "outputs": [],
   "source": [
    "outliers = df[df.price > df.price.mean() + 2 * df.price.std()]\n",
    "outliers"
   ]
  },
  {
   "cell_type": "code",
   "execution_count": null,
   "id": "418e571e",
   "metadata": {},
   "outputs": [],
   "source": [
    "df = df.drop(outliers.index).reset_index()\n",
    "df"
   ]
  },
  {
   "cell_type": "code",
   "execution_count": null,
   "id": "de1dae11",
   "metadata": {},
   "outputs": [],
   "source": [
    "display(df.describe())\n",
    "display(df[df.state == 'Utah'].describe())\n",
    "display(df[df.state == 'Colorado'].describe())"
   ]
  },
  {
   "cell_type": "code",
   "execution_count": null,
   "id": "9912b59e",
   "metadata": {},
   "outputs": [],
   "source": [
    "sns.displot(data=df, x='price', hue='state', kind='kde', common_norm=False, height=6, aspect=1.5)\n",
    "plt.axvline(df[df.state == 'Colorado'].price.mean(), color='green', linestyle='dashed', linewidth=2, label='Colorado Mean')\n",
    "plt.axvline(df[df.state == 'Colorado'].price.median(), color='blue', linestyle='dashed', linewidth=2, label='Colorado Mode')\n",
    "plt.axvline(df[df.state == 'Utah'].price.mean(), color='red', linestyle='dashed', linewidth=2, label='Utah Mean')\n",
    "plt.axvline(df[df.state == 'Utah'].price.median(), color='orange', linestyle='dashed', linewidth=2, label='Utah Mode')\n",
    "plt.legend()\n",
    "plt.title('Distribution of House Prices')\n",
    "plt.xlabel('Price ($)')"
   ]
  },
  {
   "cell_type": "code",
   "execution_count": null,
   "id": "2eb230f6",
   "metadata": {},
   "outputs": [],
   "source": [
    "sns.displot(data=df, x='price', hue='state', kind='kde', common_norm=False, height=6, aspect=1.5)\n",
    "plt.axvline(df[df.state == 'Colorado'].price.mean(), color='green', linestyle='dashed', linewidth=2, label='Colorado Mean')\n",
    "plt.axvline(df[df.state == 'Colorado'].price.median(), color='blue', linestyle='dashed', linewidth=2, label='Colorado Median')\n",
    "plt.axvline(df[df.state == 'Utah'].price.mean(), color='red', linestyle='dashed', linewidth=2, label='Utah Mean')\n",
    "plt.axvline(df[df.state == 'Utah'].price.median(), color='orange', linestyle='dashed', linewidth=2, label='Utah Median')\n",
    "plt.legend()\n",
    "plt.xlim((0, 2000000))\n",
    "plt.title('Distribution of House Prices')\n",
    "plt.xlabel('Price ($)')"
   ]
  },
  {
   "cell_type": "markdown",
   "id": "f0d9d8e2",
   "metadata": {},
   "source": [
    "### Prepare the data for prediction"
   ]
  },
  {
   "cell_type": "code",
   "execution_count": null,
   "id": "c1259db5",
   "metadata": {},
   "outputs": [],
   "source": [
    "df['price_range'] = pd.qcut(df['price'], 4)\n",
    "df['price_range_encoded'] = pd.qcut(df['price'], 4, labels=False)\n",
    "df"
   ]
  },
  {
   "cell_type": "code",
   "execution_count": null,
   "id": "ad0b1f70",
   "metadata": {},
   "outputs": [],
   "source": [
    "df['price_range'].unique()"
   ]
  },
  {
   "cell_type": "code",
   "execution_count": null,
   "id": "150344bd",
   "metadata": {},
   "outputs": [],
   "source": [
    "df['utah'] = df.apply(lambda row: 1 if row.state == 'Utah' else 0, axis=1)\n",
    "df"
   ]
  },
  {
   "cell_type": "code",
   "execution_count": null,
   "id": "11033fbc",
   "metadata": {},
   "outputs": [],
   "source": [
    "# df['prev_sold_date'] = pd.to_datetime(df['prev_sold_date'])\n",
    "# df['days_since_last_sale'] = (pd.Timestamp.today() - df['prev_sold_date']).dt.days\n",
    "# df"
   ]
  },
  {
   "cell_type": "markdown",
   "id": "67c7cea4",
   "metadata": {},
   "source": [
    "## Decision Trees"
   ]
  },
  {
   "cell_type": "markdown",
   "id": "e1b06b8e",
   "metadata": {},
   "source": [
    "### Depth of 3"
   ]
  },
  {
   "cell_type": "markdown",
   "id": "f2b3da3c",
   "metadata": {},
   "source": [
    "#### Training on whole dataset"
   ]
  },
  {
   "cell_type": "code",
   "execution_count": null,
   "id": "35539761",
   "metadata": {},
   "outputs": [],
   "source": [
    "# create a list of feature columns\n",
    "feature_cols = ['bed', 'bath', 'acre_lot', 'house_size', 'utah',]# 'days_since_last_sale']\n",
    "\n",
    "# define X and y\n",
    "X = df[feature_cols]\n",
    "y = df.price_range_encoded\n",
    "\n",
    "# fit a classification tree on all data\n",
    "treeclf = DecisionTreeClassifier(max_depth=3, random_state=1)\n",
    "treeclf.fit(X.values, y)\n",
    "\n",
    "dot = tree.export_graphviz(treeclf, out_file=None,\n",
    "                                    feature_names=feature_cols,\n",
    "                                    class_names=['0', '1', '2', '3'], filled = True)\n",
    "\n",
    "# output dot code to copy/paste into https://dreampuf.github.io/GraphvizOnline\n",
    "print(dot)\n",
    "\n",
    "y_pred = treeclf.predict(X)\n",
    "\n",
    "p,r,f,s = precision_recall_fscore_support(y, y_pred, labels=[0, 1, 2, 3])\n",
    "display('precision = {}'.format(p))\n",
    "display('recall = {}'.format(r))\n",
    "display('f-score = {}'.format(f))\n",
    "\n",
    "pd.DataFrame({'feature':feature_cols, 'importance':treeclf.feature_importances_})"
   ]
  },
  {
   "cell_type": "markdown",
   "id": "24d1edc0",
   "metadata": {},
   "source": [
    "#### Monte Carlo cross-validation"
   ]
  },
  {
   "cell_type": "code",
   "execution_count": null,
   "id": "c152439c",
   "metadata": {},
   "outputs": [],
   "source": [
    "# create a list of feature columns\n",
    "feature_cols = ['bed', 'bath', 'acre_lot', 'house_size', 'utah',]# 'days_since_last_sale']\n",
    "\n",
    "# define X and y\n",
    "X = df[feature_cols]\n",
    "y = df.price_range_encoded\n",
    "\n",
    "scores = {'p': [], 'r': [], 'f': []}\n",
    "for _ in range(30):\n",
    "    X_train, X_test, y_train, y_test = train_test_split(X, y, test_size=0.25)#, random_state=42)\n",
    "\n",
    "    # fit a classification tree on all data\n",
    "    treeclf = DecisionTreeClassifier(max_depth=3, random_state=1)\n",
    "    treeclf.fit(X_train, y_train)\n",
    "\n",
    "    y_pred = treeclf.predict(X_test)\n",
    "\n",
    "    p,r,f,s = precision_recall_fscore_support(y_test, y_pred, labels=[0, 1, 2, 3])\n",
    "    scores['p'].append(p)\n",
    "    scores['r'].append(r)\n",
    "    scores['f'].append(f)\n",
    "\n",
    "avgP = 0\n",
    "for pre in scores['p']:\n",
    "    avgP += pre\n",
    "avgP /= len(scores['p'])\n",
    "\n",
    "avgR = 0\n",
    "for re in scores['r']:\n",
    "    avgR += re\n",
    "avgR /= len(scores['r'])\n",
    "\n",
    "avgF = 0\n",
    "for f in scores['f']:\n",
    "    avgF += f\n",
    "avgF /= len(scores['f'])\n",
    "\n",
    "display('precision = {}'.format(avgP))\n",
    "display('recall = {}'.format(avgR))\n",
    "display('f-score = {}'.format(avgF))"
   ]
  },
  {
   "cell_type": "markdown",
   "id": "d566320e",
   "metadata": {},
   "source": [
    "### Depth of 5"
   ]
  },
  {
   "cell_type": "markdown",
   "id": "713ab57a",
   "metadata": {},
   "source": [
    "#### Training on whole dataset"
   ]
  },
  {
   "cell_type": "code",
   "execution_count": null,
   "id": "a97b7b16",
   "metadata": {},
   "outputs": [],
   "source": [
    "# create a list of feature columns\n",
    "feature_cols = ['bed', 'bath', 'acre_lot', 'house_size', 'utah',]# 'days_since_last_sale']\n",
    "\n",
    "# define X and y\n",
    "X = df[feature_cols]\n",
    "y = df.price_range_encoded\n",
    "\n",
    "# fit a classification tree on all data\n",
    "treeclf = DecisionTreeClassifier(max_depth=5, random_state=1)\n",
    "treeclf.fit(X.values, y)\n",
    "\n",
    "dot = tree.export_graphviz(treeclf, out_file=None,\n",
    "                                    feature_names=feature_cols,\n",
    "                                    class_names=['0', '1', '2', '3'], filled = True)\n",
    "\n",
    "# output dot code to copy/paste into https://dreampuf.github.io/GraphvizOnline\n",
    "print(dot)\n",
    "\n",
    "y_pred = treeclf.predict(X)\n",
    "\n",
    "p,r,f,s = precision_recall_fscore_support(y, y_pred, labels=[0, 1, 2, 3])\n",
    "display('precision = {}'.format(p))\n",
    "display('recall = {}'.format(r))\n",
    "display('f-score = {}'.format(f))\n",
    "\n",
    "pd.DataFrame({'feature':feature_cols, 'importance':treeclf.feature_importances_})"
   ]
  },
  {
   "cell_type": "markdown",
   "id": "c68e924d",
   "metadata": {},
   "source": [
    "#### Monte Carlo cross-validation"
   ]
  },
  {
   "cell_type": "code",
   "execution_count": null,
   "id": "5f7ab9b1",
   "metadata": {},
   "outputs": [],
   "source": [
    "# create a list of feature columns\n",
    "feature_cols = ['bed', 'bath', 'acre_lot', 'house_size', 'utah',]# 'days_since_last_sale']\n",
    "\n",
    "# define X and y\n",
    "X = df[feature_cols]\n",
    "y = df.price_range_encoded\n",
    "\n",
    "scores = {'p': [], 'r': [], 'f': []}\n",
    "for _ in range(30):\n",
    "    X_train, X_test, y_train, y_test = train_test_split(X, y, test_size=0.25)#, random_state=42)\n",
    "\n",
    "    # fit a classification tree on all data\n",
    "    treeclf = DecisionTreeClassifier(max_depth=5, random_state=1)\n",
    "    treeclf.fit(X_train, y_train)\n",
    "\n",
    "    y_pred = treeclf.predict(X_test)\n",
    "\n",
    "    p,r,f,s = precision_recall_fscore_support(y_test, y_pred, labels=[0, 1, 2, 3])\n",
    "    scores['p'].append(p)\n",
    "    scores['r'].append(r)\n",
    "    scores['f'].append(f)\n",
    "\n",
    "avgP = 0\n",
    "for pre in scores['p']:\n",
    "    avgP += pre\n",
    "avgP /= len(scores['p'])\n",
    "\n",
    "avgR = 0\n",
    "for re in scores['r']:\n",
    "    avgR += re\n",
    "avgR /= len(scores['r'])\n",
    "\n",
    "avgF = 0\n",
    "for f in scores['f']:\n",
    "    avgF += f\n",
    "avgF /= len(scores['f'])\n",
    "\n",
    "display('precision = {}'.format(avgP))\n",
    "display('recall = {}'.format(avgR))\n",
    "display('f-score = {}'.format(avgF))"
   ]
  },
  {
   "cell_type": "markdown",
   "id": "aba00f09",
   "metadata": {},
   "source": [
    "### Testing the most important feature only"
   ]
  },
  {
   "cell_type": "code",
   "execution_count": null,
   "id": "5103b57a",
   "metadata": {},
   "outputs": [],
   "source": [
    "# create a list of feature columns\n",
    "feature_cols = ['house_size']\n",
    "\n",
    "# define X and y\n",
    "X = df[feature_cols]\n",
    "y = df.price_range_encoded\n",
    "\n",
    "# fit a classification tree on all data\n",
    "treeclf = DecisionTreeClassifier(max_depth=5, random_state=1)\n",
    "treeclf.fit(X.values, y)\n",
    "\n",
    "dot = tree.export_graphviz(treeclf, out_file=None,\n",
    "                                    feature_names=feature_cols,\n",
    "                                    class_names=['0', '1', '2', '3'], filled = True)\n",
    "\n",
    "# output dot code to copy/paste into https://dreampuf.github.io/GraphvizOnline\n",
    "print(dot)\n",
    "\n",
    "y_pred = treeclf.predict(X)\n",
    "\n",
    "p,r,f,s = precision_recall_fscore_support(y, y_pred, labels=[0, 1, 2, 3])\n",
    "display('precision = {}'.format(p))\n",
    "display('recall = {}'.format(r))\n",
    "display('f-score = {}'.format(f))"
   ]
  },
  {
   "cell_type": "code",
   "execution_count": null,
   "id": "2bc79f70",
   "metadata": {},
   "outputs": [],
   "source": [
    "# create a list of feature columns\n",
    "feature_cols = ['house_size']\n",
    "\n",
    "# define X and y\n",
    "X = df[feature_cols]\n",
    "y = df.price_range_encoded\n",
    "\n",
    "# fit a classification tree on all data\n",
    "treeclf = DecisionTreeClassifier(max_depth=4, random_state=1)\n",
    "treeclf.fit(X.values, y)\n",
    "\n",
    "dot = tree.export_graphviz(treeclf, out_file=None,\n",
    "                                    feature_names=feature_cols,\n",
    "                                    class_names=['0', '1', '2', '3'], filled = True)\n",
    "\n",
    "# output dot code to copy/paste into https://dreampuf.github.io/GraphvizOnline\n",
    "print(dot)\n",
    "\n",
    "y_pred = treeclf.predict(X)\n",
    "\n",
    "p,r,f,s = precision_recall_fscore_support(y, y_pred, labels=[0, 1, 2, 3])\n",
    "display('precision = {}'.format(p))\n",
    "display('recall = {}'.format(r))\n",
    "display('f-score = {}'.format(f))"
   ]
  },
  {
   "cell_type": "markdown",
   "id": "a5965e29",
   "metadata": {},
   "source": [
    "### Finding the best depth"
   ]
  },
  {
   "cell_type": "code",
   "execution_count": null,
   "id": "29490218",
   "metadata": {},
   "outputs": [],
   "source": [
    "fScores = {\n",
    "    'depth': [],\n",
    "    '0': [],\n",
    "    '1': [],\n",
    "    '2': [],\n",
    "    '3': [],\n",
    "    'avg': []\n",
    "}\n",
    "for i in range(2, 21):   \n",
    "    # create a list of feature columns\n",
    "    feature_cols = ['bed', 'bath', 'acre_lot', 'house_size', 'utah',]# 'days_since_last_sale']\n",
    "\n",
    "    # define X and y\n",
    "    X = df[feature_cols]\n",
    "    y = df.price_range_encoded\n",
    "\n",
    "    scores = {'p': [], 'r': [], 'f': []}\n",
    "    for _ in range(30):\n",
    "        X_train, X_test, y_train, y_test = train_test_split(X, y, test_size=0.25)#, random_state=42)\n",
    "\n",
    "        # fit a classification tree on all data\n",
    "        treeclf = DecisionTreeClassifier(max_depth=i, random_state=1)\n",
    "        treeclf.fit(X_train, y_train)\n",
    "\n",
    "        y_pred = treeclf.predict(X_test)\n",
    "\n",
    "        p,r,f,s = precision_recall_fscore_support(y_test, y_pred, labels=[0, 1, 2, 3])\n",
    "        scores['f'].append(f)\n",
    "\n",
    "    avgF = 0\n",
    "    for f in scores['f']:\n",
    "        avgF += f\n",
    "    avgF /= len(scores['f'])\n",
    "\n",
    "    fScores['depth'].append(i)\n",
    "    fScores['0'].append(avgF[0])\n",
    "    fScores['1'].append(avgF[1])\n",
    "    fScores['2'].append(avgF[2])\n",
    "    fScores['3'].append(avgF[3])\n",
    "    fScores['avg'].append((avgF[0] + avgF[1] + avgF[2] + avgF[3]) / 4)\n",
    "\n",
    "display(fScores)"
   ]
  },
  {
   "cell_type": "code",
   "execution_count": null,
   "id": "7a6e3cba",
   "metadata": {},
   "outputs": [],
   "source": [
    "scoresDF = pd.DataFrame(fScores)\n",
    "scoresDF = pd.melt(scoresDF, id_vars='depth', value_vars=['0', '1', '2', '3', 'avg'],\n",
    "                    var_name='class', value_name='fScore')\n",
    "scoresDF"
   ]
  },
  {
   "cell_type": "code",
   "execution_count": null,
   "id": "ffa0a51c",
   "metadata": {},
   "outputs": [],
   "source": [
    "maxAvgScore = scoresDF[scoresDF['class'] == 'avg']['fScore'].max()\n",
    "display(maxAvgScore)\n",
    "bestDepth = scoresDF[scoresDF['class'] == 'avg'][scoresDF['fScore'] == maxAvgScore].depth.tolist()[0]\n",
    "display(bestDepth)\n",
    "index = fScores['depth'].index(7)\n",
    "bestDepthScores = {}\n",
    "for key, value in fScores.items():\n",
    "    if not key in ['depth', 'avg']:\n",
    "        bestDepthScores[key] = value[index]\n",
    "bestDepthScores"
   ]
  },
  {
   "cell_type": "code",
   "execution_count": null,
   "id": "6ab75682",
   "metadata": {},
   "outputs": [],
   "source": [
    "sns.lineplot(data=scoresDF, x='depth', y='fScore', hue='class')\n",
    "plt.axvline(bestDepth, color='purple', linestyle='dashed', linewidth=2, label='Best Depth')\n",
    "plt.title('Depth of Decision Tree vs Average F-Score of Decision Tree')\n",
    "plt.xlabel('Depth')\n",
    "plt.ylabel('Average F-Score')"
   ]
  },
  {
   "cell_type": "markdown",
   "id": "ced833a6",
   "metadata": {},
   "source": [
    "It looks like a depth of 7 is the best generally."
   ]
  },
  {
   "cell_type": "markdown",
   "id": "c92e71a4",
   "metadata": {},
   "source": [
    "## Neural Networks"
   ]
  },
  {
   "cell_type": "code",
   "execution_count": null,
   "id": "8192a817",
   "metadata": {},
   "outputs": [],
   "source": [
    "from sklearn.model_selection import train_test_split\n",
    "from sklearn.preprocessing import StandardScaler\n",
    "from sklearn.neural_network import MLPClassifier"
   ]
  },
  {
   "cell_type": "code",
   "execution_count": null,
   "id": "3963452f",
   "metadata": {},
   "outputs": [],
   "source": [
    "display(df)\n",
    "df.describe"
   ]
  },
  {
   "cell_type": "code",
   "execution_count": null,
   "id": "01d10c46",
   "metadata": {},
   "outputs": [],
   "source": [
    "# create a list of feature columns\n",
    "feature_cols = ['bed', 'bath', 'acre_lot', 'house_size', 'utah',]# 'days_since_last_sale']\n",
    "# Tried with added features 'zip_code','brokered_by', 'status', was not better. Most predictions were worst. \n",
    "\n",
    "# define X and y\n",
    "X = df[feature_cols]\n",
    "y = df.price_range_encoded\n",
    "\n",
    "X_train, X_test, y_train, y_test = train_test_split(X, y)"
   ]
  },
  {
   "cell_type": "code",
   "execution_count": null,
   "id": "b6ba2283",
   "metadata": {},
   "outputs": [],
   "source": [
    "scaler = StandardScaler()\n",
    "\n",
    "# Fit only to the training data\n",
    "scaler.fit(X_train)\n",
    "\n",
    "# Now apply the transformations to the data:\n",
    "X_train = scaler.transform(X_train)\n",
    "X_test = scaler.transform(X_test)\n",
    "\n",
    "X_train"
   ]
  },
  {
   "cell_type": "code",
   "execution_count": null,
   "id": "b2c1ac16",
   "metadata": {},
   "outputs": [],
   "source": [
    "# mlp = MLPClassifier(hidden_layer_sizes=(3),max_iter=500)\n",
    "mlp = MLPClassifier(hidden_layer_sizes=(7, 9, 11),max_iter=50000)\n",
    "mlp.fit(X_train,y_train)"
   ]
  },
  {
   "cell_type": "code",
   "execution_count": null,
   "id": "a22a1f78",
   "metadata": {},
   "outputs": [],
   "source": [
    "predictions = mlp.predict(X_test)\n",
    "p,r,f,s = precision_recall_fscore_support(y_test, predictions, labels=[0, 1, 2, 3])\n",
    "display('precision = {}'.format(p))\n",
    "display('recall = {}'.format(r))\n",
    "display('f-score = {}'.format(f))"
   ]
  },
  {
   "cell_type": "code",
   "execution_count": null,
   "id": "70c091a1",
   "metadata": {},
   "outputs": [],
   "source": [
    "print('This dataset has {} input nodes and {} output node(s)'.format(len(X.columns), len(y.unique())))\n",
    "print('There are {} 2D arrays of coefficients, one for each layer'.format(len(mlp.coefs_)))\n",
    "print('The layers have the following number of coefficients: {}')\n",
    "for l in range(len(mlp.coefs_)):\n",
    "    m = len(mlp.coefs_[l])\n",
    "    n = len(mlp.coefs_[l][0])\n",
    "    print('  {}: {}x{} ({} nodes feeding into a layer of {} nodes)'.format(l, m, n, m, n))\n",
    "# Print the actual coefficients\n",
    "print(mlp.coefs_)\n",
    "\n",
    "print()\n",
    "print('There are {} 1D arrays of intercepts, one for each layer'.format(len(mlp.intercepts_)))\n",
    "print('Each layer has {} intercepts, one for each node'.format([len(mlp.intercepts_[l]) for l,_ in enumerate(mlp.intercepts_)]))"
   ]
  },
  {
   "cell_type": "code",
   "execution_count": null,
   "id": "bff2d9be",
   "metadata": {},
   "outputs": [],
   "source": [
    "import networkx as nx\n",
    "import colorsys\n",
    "\n",
    "def show_ann(mlp):\n",
    "    hidden_layers_n = len(mlp.coefs_)-1\n",
    "    layers_n = hidden_layers_n + 2\n",
    "    input_neurons_n = len(mlp.coefs_[0])\n",
    "    hidden_neurons_n = [len(mlp.coefs_[i+1]) for i in range(hidden_layers_n)]\n",
    "    output_neurons_n = len(mlp.coefs_[-1][0])\n",
    "\n",
    "    G = nx.DiGraph()\n",
    "    pos = {}\n",
    "\n",
    "    # Create the neurons of the input layer\n",
    "    for i in range(input_neurons_n):\n",
    "        pos['Layer0_{}'.format(i)] = (i,layers_n-1)\n",
    "\n",
    "    for j in range(hidden_layers_n):\n",
    "        # Create the neurons of the j'th hidden layer\n",
    "        prev_layer = j\n",
    "        cur_layer = j+1\n",
    "        if (j == 0):\n",
    "            prev_size = input_neurons_n\n",
    "        else:\n",
    "            prev_size = hidden_neurons_n[j-1]\n",
    "        for i in range(hidden_neurons_n[j]):\n",
    "            pos['Layer{}_{}'.format(cur_layer,i)] = (i,layers_n-1-cur_layer)\n",
    "            for k in range(prev_size):\n",
    "                w = mlp.coefs_[prev_layer][k][i]\n",
    "                G.add_edge('Layer{}_{}'.format(prev_layer,k),'Layer{}_{}'.format(cur_layer,i), weight=w)\n",
    "\n",
    "    # Create the neurons of the output layer\n",
    "    prev_layer = hidden_layers_n\n",
    "    cur_layer = hidden_layers_n+1\n",
    "    for i in range(output_neurons_n):\n",
    "        pos['Layer{}_{}'.format(cur_layer,i)] = (i,layers_n-1-cur_layer)\n",
    "        for k in range(hidden_neurons_n[-1]):\n",
    "            w = mlp.coefs_[prev_layer][k][i]\n",
    "            G.add_edge('Layer{}_{}'.format(prev_layer,k),'Layer{}_{}'.format(cur_layer,i), weight=w)\n",
    "\n",
    "    edges = G.edges()\n",
    "    colors = [colorsys.hsv_to_rgb(0 if G[u][v]['weight'] < 0 else 0.65,\n",
    "                                  1,#min(1, abs(G[u][v]['weight'])),\n",
    "                                  1) for u,v in edges]\n",
    "    weights = [abs(G[u][v]['weight'])*2 for u,v in edges]\n",
    "\n",
    "    nx.draw(G, pos, node_color='y', node_size=450, width=weights, edge_color=colors)\n",
    "    \n",
    "show_ann(mlp)"
   ]
  },
  {
   "cell_type": "code",
   "execution_count": null,
   "id": "92a346cf",
   "metadata": {},
   "outputs": [],
   "source": [
    "# mlp = MLPClassifier(hidden_layer_sizes=(4),max_iter=500)\n",
    "mlp = MLPClassifier(hidden_layer_sizes=(9, 5, 7, 10),max_iter=50000)\n",
    "mlp.fit(X_train,y_train)"
   ]
  },
  {
   "cell_type": "code",
   "execution_count": null,
   "id": "37a042f1",
   "metadata": {},
   "outputs": [],
   "source": [
    "predictions = mlp.predict(X_test)\n",
    "p,r,f,s = precision_recall_fscore_support(y_test, predictions, labels=[0, 1, 2, 3])\n",
    "display('precision = {}'.format(p))\n",
    "display('recall = {}'.format(r))\n",
    "display('f-score = {}'.format(f))"
   ]
  },
  {
   "cell_type": "code",
   "execution_count": null,
   "id": "59db9ad0",
   "metadata": {},
   "outputs": [],
   "source": [
    "show_ann(mlp)"
   ]
  },
  {
   "cell_type": "code",
   "execution_count": null,
   "id": "66479a0b",
   "metadata": {},
   "outputs": [],
   "source": [
    "# mlp = MLPClassifier(hidden_layer_sizes=(6),max_iter=500)\n",
    "mlp = MLPClassifier(hidden_layer_sizes=(5, 11, 9, 7, 6, 10),max_iter=50000)\n",
    "mlp.fit(X_train,y_train)"
   ]
  },
  {
   "cell_type": "code",
   "execution_count": null,
   "id": "e02c4077",
   "metadata": {},
   "outputs": [],
   "source": [
    "predictions = mlp.predict(X_test)\n",
    "p,r,f,s = precision_recall_fscore_support(y_test, predictions, labels=[0, 1, 2, 3])\n",
    "display('precision = {}'.format(p))\n",
    "display('recall = {}'.format(r))\n",
    "display('f-score = {}'.format(f))"
   ]
  },
  {
   "cell_type": "code",
   "execution_count": null,
   "id": "0b8cf203",
   "metadata": {},
   "outputs": [],
   "source": [
    "show_ann(mlp)"
   ]
  }
 ],
 "metadata": {
  "kernelspec": {
   "display_name": "Python 3",
   "language": "python",
   "name": "python3"
  },
  "language_info": {
   "codemirror_mode": {
    "name": "ipython",
    "version": 3
   },
   "file_extension": ".py",
   "mimetype": "text/x-python",
   "name": "python",
   "nbconvert_exporter": "python",
   "pygments_lexer": "ipython3",
   "version": "3.9.7"
  }
 },
 "nbformat": 4,
 "nbformat_minor": 5
}
